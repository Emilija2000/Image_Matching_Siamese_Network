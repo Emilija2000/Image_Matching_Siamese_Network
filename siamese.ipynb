{
  "cells": [
    {
      "cell_type": "markdown",
      "metadata": {
        "id": "Q93QhrZMpllR"
      },
      "source": [
        "# Image matching with Siamese networks\n",
        "## Dependencies"
      ]
    },
    {
      "cell_type": "code",
      "execution_count": 1,
      "metadata": {
        "id": "kfLmrjV1pllV"
      },
      "outputs": [],
      "source": [
        "import matplotlib.pyplot as plt\n",
        "import numpy as np\n",
        "\n",
        "import torch\n",
        "from torch import optim\n",
        "from torch.optim.lr_scheduler import StepLR\n",
        "from torchvision import transforms\n",
        "from torch.utils.data import DataLoader\n",
        "import utilities as utils \n",
        "from siameseDataloader import readDataFolder, dataSplits,SiameseDataset\n",
        "from siameseModel import SimpleSiameseNetwork, Resnet20Siamese, Resnet20Binary, MobileNetSiamese, MobilenetBinary\n",
        "from siameseLosses import ContrastiveLoss"
      ]
    },
    {
      "cell_type": "code",
      "execution_count": 2,
      "metadata": {
        "id": "ioGAoVNzpllW"
      },
      "outputs": [],
      "source": [
        "import os\n",
        "config = utils.load_config()\n",
        "datadir = os.path.join('data','tiny-imagenet-200-copy','train')#config['DATASET']['root']\n",
        "numclasses = config['DATASET']['numclasses']\n",
        "sameprob = config['DATASET']['sameprob']\n",
        "im_size = config['DATASET']['im_size']\n",
        "emb_size=config['MODEL']['embsize']\n",
        "\n",
        "seed = config['seed']\n",
        "np.random.seed(seed)\n",
        "\n",
        "device = config['TRAIN']['device']"
      ]
    },
    {
      "cell_type": "code",
      "execution_count": 3,
      "metadata": {},
      "outputs": [
        {
          "data": {
            "text/plain": [
              "32"
            ]
          },
          "execution_count": 3,
          "metadata": {},
          "output_type": "execute_result"
        }
      ],
      "source": [
        "im_size"
      ]
    },
    {
      "cell_type": "markdown",
      "metadata": {
        "id": "OI5tIw04pllX"
      },
      "source": [
        "## Dataset"
      ]
    },
    {
      "cell_type": "code",
      "execution_count": 4,
      "metadata": {
        "colab": {
          "base_uri": "https://localhost:8080/"
        },
        "id": "1pS1Wv6upllX",
        "outputId": "40ca24b7-da0e-4c02-ecff-6d01a6723e9d"
      },
      "outputs": [
        {
          "name": "stdout",
          "output_type": "stream",
          "text": [
            "Dataset ImageFolder\n",
            "    Number of datapoints: 25000\n",
            "    Root location: data\\tiny-imagenet-200-copy\\train\n"
          ]
        }
      ],
      "source": [
        "dataset = readDataFolder(datadir,numclasses)\n",
        "print(dataset)"
      ]
    },
    {
      "cell_type": "code",
      "execution_count": 5,
      "metadata": {
        "id": "OmlUZ4bAvSyA"
      },
      "outputs": [],
      "source": [
        "train_split,val_split,test_split = dataSplits(dataset,0.8,0.2,0)"
      ]
    },
    {
      "cell_type": "code",
      "execution_count": 6,
      "metadata": {
        "id": "Cy0bMF7rpllY"
      },
      "outputs": [],
      "source": [
        "\n",
        "train_transforms = transforms.Compose([\n",
        "    transforms.Resize(im_size+4),\n",
        "    transforms.RandomCrop(im_size),\n",
        "    transforms.RandomHorizontalFlip(),\n",
        "    transforms.RandomAffine(5),\n",
        "    transforms.ToTensor(),\n",
        "    #transforms.Normalize([0.4914, 0.4822, 0.4465], [0.2023, 0.1994, 0.2010])\n",
        "    transforms.Normalize([0.507, 0.4865, 0.4409], [0.2673, 0.2564, 0.2761])\n",
        "])\n",
        "test_transforms = transforms.Compose([\n",
        "    transforms.Resize(im_size),\n",
        "    transforms.CenterCrop(im_size),\n",
        "    transforms.ToTensor(),\n",
        "    #transforms.Normalize([0.4914, 0.4822, 0.4465], [0.2023, 0.1994, 0.2010])\n",
        "    transforms.Normalize([0.507, 0.4865, 0.4409], [0.2673, 0.2564, 0.2761])\n",
        "])\n",
        "\n",
        "train_dataset = SiameseDataset(train_split,train_transforms,sameprob)\n",
        "val_dataset = SiameseDataset(val_split,test_transforms,0.5)\n",
        "test_dataset = SiameseDataset(test_split,test_transforms,0.5)\n",
        "\n",
        "#train_dataset = torch.load('train_dataset.pkl')\n",
        "#val_dataset = torch.load('val_dataset.pkl')\n",
        "#test_dataset = torch.load('val_dataset.pkl')\n",
        "\n",
        "datasets = {'train':train_dataset,'val':val_dataset,'test':test_dataset}"
      ]
    },
    {
      "cell_type": "code",
      "execution_count": 7,
      "metadata": {},
      "outputs": [],
      "source": [
        "#torch.save(train_dataset,'train_dataset.pkl')\n",
        "#torch.save(val_dataset,'val_dataset.pkl')"
      ]
    },
    {
      "cell_type": "code",
      "execution_count": 8,
      "metadata": {},
      "outputs": [
        {
          "name": "stdout",
          "output_type": "stream",
          "text": [
            "391\n",
            "404\n",
            "404\n",
            "410\n",
            "393\n",
            "392\n",
            "393\n",
            "391\n",
            "386\n",
            "411\n",
            "402\n",
            "394\n",
            "404\n",
            "399\n",
            "429\n",
            "394\n",
            "383\n",
            "389\n",
            "403\n",
            "396\n",
            "398\n",
            "396\n",
            "419\n",
            "410\n",
            "396\n",
            "396\n",
            "398\n",
            "403\n",
            "396\n",
            "408\n",
            "394\n",
            "404\n",
            "405\n",
            "389\n",
            "411\n",
            "383\n",
            "413\n",
            "394\n",
            "399\n",
            "399\n",
            "399\n",
            "402\n",
            "409\n",
            "400\n",
            "402\n",
            "391\n",
            "392\n",
            "391\n",
            "417\n",
            "418\n"
          ]
        },
        {
          "data": {
            "image/png": "[encoded data removed]",
            "text/plain": [
              "<Figure size 1080x216 with 50 Axes>"
            ]
          },
          "metadata": {
            "needs_background": "light"
          },
          "output_type": "display_data"
        }
      ],
      "source": [
        "fig,ax=plt.subplots(1,numclasses,figsize=(15,3))\n",
        "for i in range(numclasses):\n",
        "    img,num=train_dataset.getImageFromClass(i)\n",
        "    print(num)\n",
        "    ax[i].imshow(img)\n"
      ]
    },
    {
      "cell_type": "code",
      "execution_count": 9,
      "metadata": {
        "id": "MTWN4JlQpllY"
      },
      "outputs": [],
      "source": [
        "#dataloaders\n",
        "dataloaders = {\n",
        "    'train': DataLoader(train_dataset,shuffle=True,\n",
        "                        num_workers=config['TRAIN']['numworkers'],\n",
        "                        batch_size=config['TRAIN']['batchsize']),\n",
        "    'val': DataLoader(val_dataset,shuffle=False,\n",
        "                        num_workers=config['TRAIN']['numworkers'],\n",
        "                        batch_size=config['TRAIN']['batchsize']),\n",
        "    'test': DataLoader(test_dataset,shuffle=False,\n",
        "                        num_workers=config['TRAIN']['numworkers'],\n",
        "                        batch_size=config['TRAIN']['batchsize'])\n",
        "}"
      ]
    },
    {
      "cell_type": "code",
      "execution_count": 10,
      "metadata": {},
      "outputs": [
        {
          "name": "stdout",
          "output_type": "stream",
          "text": [
            "torch.Size([64, 3, 32, 32])\n"
          ]
        }
      ],
      "source": [
        "for i,data in enumerate(dataloaders['train']):\n",
        "    print(data[0].shape)\n",
        "    break"
      ]
    },
    {
      "cell_type": "markdown",
      "metadata": {
        "id": "JRwIBybxpllZ"
      },
      "source": [
        "## Model"
      ]
    },
    {
      "cell_type": "code",
      "execution_count": 11,
      "metadata": {
        "colab": {
          "base_uri": "https://localhost:8080/"
        },
        "id": "kcLN38fZpllZ",
        "outputId": "8c1bb3ef-8af5-45ee-e365-86a80319bdd8"
      },
      "outputs": [
        {
          "name": "stderr",
          "output_type": "stream",
          "text": [
            "Using cache found in C:\\Users\\Emilija/.cache\\torch\\hub\\chenyaofo_pytorch-cifar-models_master\n"
          ]
        }
      ],
      "source": [
        "if config['MODEL']['model'] == 'simple':\n",
        "    model = SimpleSiameseNetwork(config['MODEL']['distance'],pretrained=config['MODEL']['pretrained'],embsize=emb_size)\n",
        "elif config['MODEL']['model'] =='resnet':\n",
        "    model = Resnet20Siamese(config['MODEL']['distance'],pretrained=config['MODEL']['pretrained'],embsize=emb_size)\n",
        "elif config['MODEL']['model'] =='mobilenet':\n",
        "    model = MobileNetSiamese(config['MODEL']['distance'],pretrained=config['MODEL']['pretrained'],embsize=emb_size)\n",
        "elif config['MODEL']['model'] =='mobilenetbinary':\n",
        "    model = MobilenetBinary(pretrained=config['MODEL']['pretrained'],embsize=emb_size)\n",
        "elif config['MODEL']['model'] =='resnetbinary':\n",
        "    model = Resnet20Binary(pretrained=config['MODEL']['pretrained'],embsize=emb_size)\n",
        "else:\n",
        "    model = SimpleSiameseNetwork(config['MODEL']['distance'],embsize=emb_size)"
      ]
    },
    {
      "cell_type": "code",
      "execution_count": null,
      "metadata": {},
      "outputs": [],
      "source": [
        "for param in model.parameters():\n",
        "    param.requires_grad = True"
      ]
    },
    {
      "cell_type": "code",
      "execution_count": null,
      "metadata": {},
      "outputs": [],
      "source": [
        "pytorch_total_params = sum(p.numel() for p in model.parameters() if p.requires_grad)\n",
        "print(pytorch_total_params)"
      ]
    },
    {
      "cell_type": "code",
      "execution_count": null,
      "metadata": {
        "colab": {
          "base_uri": "https://localhost:8080/"
        },
        "id": "nlyIXdtJplla",
        "outputId": "3c41d846-7bda-497a-f9cf-fffaad2a5202"
      },
      "outputs": [],
      "source": [
        "data = train_dataset[400]\n",
        "out = model(data[0].reshape(1,3,im_size,im_size),data[1].reshape(1,3,im_size,im_size))\n",
        "print(out)\n",
        "print(data[2])\n",
        "#print(criterion(out,data[2]))\n"
      ]
    },
    {
      "cell_type": "markdown",
      "metadata": {
        "id": "NAgPodwZpllb"
      },
      "source": [
        "## Train"
      ]
    },
    {
      "cell_type": "code",
      "execution_count": null,
      "metadata": {},
      "outputs": [],
      "source": [
        "#model.to('cpu')\n",
        "#model.load_state_dict(model1)"
      ]
    },
    {
      "cell_type": "code",
      "execution_count": 12,
      "metadata": {},
      "outputs": [],
      "source": [
        "criterion = ContrastiveLoss(margin=config['TRAIN']['lossmargin'])\n",
        "#criterion = torch.nn.BCELoss()\n",
        "#config['TRAIN']['lr'] =0.0005\n",
        "optimizer = optim.Adam(model.parameters(),lr = config['TRAIN']['lr'],weight_decay=0.002)\n",
        "#scheduler = StepLR(optimizer, step_size=10, gamma=0.1)"
      ]
    },
    {
      "cell_type": "code",
      "execution_count": null,
      "metadata": {},
      "outputs": [],
      "source": [
        "for i,data in enumerate(dataloaders['train']):\n",
        "    label = data[2]\n",
        "    out = model(data[0],data[1])\n",
        "    print(out.shape)\n",
        "    print(data[2].shape)\n",
        "    #print(torch.dot(torch.pow(out,2).reshape(-1),(1-data[2]).reshape(-1))/64)\n",
        "    print(criterion(out,label))\n",
        "    break"
      ]
    },
    {
      "cell_type": "code",
      "execution_count": 13,
      "metadata": {
        "id": "caaBjVTzpllb"
      },
      "outputs": [],
      "source": [
        "\n",
        "model = model.to(device)"
      ]
    },
    {
      "cell_type": "code",
      "execution_count": null,
      "metadata": {
        "id": "jPpgvdHTpllc"
      },
      "outputs": [],
      "source": [
        "loss_history ={'train':[],'val':[]}\n",
        "minloss=10000\n"
      ]
    },
    {
      "cell_type": "code",
      "execution_count": null,
      "metadata": {},
      "outputs": [],
      "source": [
        "best_model = model.state_dict().copy() "
      ]
    },
    {
      "cell_type": "code",
      "execution_count": null,
      "metadata": {
        "colab": {
          "base_uri": "https://localhost:8080/"
        },
        "id": "KMYzWIedpllc",
        "outputId": "3b82562b-596a-4f37-f113-3df4505962e2"
      },
      "outputs": [],
      "source": [
        "\n",
        "for epoch in range(config['TRAIN']['numepochs']):\n",
        "    for mode in ['train','val']:\n",
        "        loss_epoch=0\n",
        "        count=0\n",
        "        for i,(img1,img2,label) in enumerate(dataloaders[mode]):\n",
        "            img1 = img1.to(device)\n",
        "            img2 = img2.to(device)\n",
        "            label = label.to(device)\n",
        "            \n",
        "            if mode=='train':\n",
        "                model.train()\n",
        "                \n",
        "                optimizer.zero_grad()\n",
        "                out = model(img1,img2)\n",
        "                loss = criterion(out,label)\n",
        "                loss.backward()\n",
        "                optimizer.step()\n",
        "                \n",
        "            else:\n",
        "                model.eval()\n",
        "                with torch.no_grad():\n",
        "                    out = model(img1,img2)\n",
        "                    loss = criterion(out,label)\n",
        "            \n",
        "            # track total loss\n",
        "            loss_epoch = loss_epoch+loss\n",
        "            count = count + len(label)\n",
        "            \n",
        "        #scheduler.step()\n",
        "        \n",
        "        loss_history[mode].append(loss_epoch.item()/count)\n",
        "    print('Epoch: {},\\t train loss:{:.5},\\t val loss:{:.5}'.format(epoch,loss_history['train'][-1],loss_history['val'][-1]))\n",
        "\n",
        "    if (loss_history['val'][-1] < minloss):\n",
        "        minloss = loss_history['val'][-1]\n",
        "        best_model = model.state_dict().copy()\n",
        "            \n",
        "            "
      ]
    },
    {
      "cell_type": "code",
      "execution_count": null,
      "metadata": {},
      "outputs": [],
      "source": [
        "model.load_state_dict(best_model)"
      ]
    },
    {
      "cell_type": "code",
      "execution_count": null,
      "metadata": {
        "colab": {
          "base_uri": "https://localhost:8080/",
          "height": 282
        },
        "id": "FSjCw2Jppllc",
        "outputId": "fb64d293-3dd8-4b38-e43a-b679a603dfc3"
      },
      "outputs": [],
      "source": [
        "plt.figure()\n",
        "plt.plot(loss_history['train'],'b-')\n",
        "plt.plot(loss_history['val'],'r-')"
      ]
    },
    {
      "attachments": {},
      "cell_type": "markdown",
      "metadata": {},
      "source": [
        "## Train acc"
      ]
    },
    {
      "cell_type": "code",
      "execution_count": null,
      "metadata": {},
      "outputs": [],
      "source": [
        "model.eval()\n",
        "model=model.to(device)\n",
        "#threshs = np.linspace(start=0,stop=config['TRAIN']['lossmargin']*1.2,num=10)\n",
        "#threshs = [config['TRAIN']['lossmargin']/2]\n",
        "threshs=[0.5]\n",
        "accs = []\n",
        "sensitivity = []\n",
        "specificity = []\n",
        "f1=[]\n",
        "\n",
        "\n",
        "for thresh in threshs:\n",
        "    pos=0\n",
        "    neg=0\n",
        "    conf = np.zeros((2,2))\n",
        "    for i,(img1,img2,label) in enumerate(dataloaders['train']):\n",
        "        img1=img1.to(device)\n",
        "        img2=img2.to(device)\n",
        "        label=label.to(device)\n",
        "        with torch.no_grad():\n",
        "            out = model(img1,img2)\n",
        "        \n",
        "        conf[1,1] += torch.matmul(label.T*1.,(out>=thresh)*1.)\n",
        "        conf[1,0] += torch.matmul(label.T*1.,(out<thresh)*1.)\n",
        "        conf[0,1] += torch.matmul((1-label).T*1.,(out>=thresh)*1.)\n",
        "        conf[0,0] += torch.matmul((1-label).T*1.,(out<thresh)*1.)\n",
        "        pos = pos + torch.sum(label)\n",
        "        neg = neg + torch.sum(1-label)\n",
        "\n",
        "    accs.append(((conf[1,1]+conf[0,0])/(pos+neg)).item())\n",
        "    sensitivity.append((conf[0,0]/neg).item()) #changed 0 and 1 labels (0 is true in the loss fcn)\n",
        "    specificity.append((conf[1,1]/pos).item())\n",
        "    f1.append(((2*conf[0,0])/(2*conf[0,0]+conf[0,1]+conf[1,0])).item())"
      ]
    },
    {
      "cell_type": "code",
      "execution_count": null,
      "metadata": {},
      "outputs": [],
      "source": [
        "print(accs)\n",
        "print(f1)"
      ]
    },
    {
      "cell_type": "markdown",
      "metadata": {
        "id": "cNFBMDQSgg8T"
      },
      "source": [
        "## Val"
      ]
    },
    {
      "cell_type": "code",
      "execution_count": null,
      "metadata": {
        "colab": {
          "base_uri": "https://localhost:8080/"
        },
        "id": "pVa241BzgfUL",
        "outputId": "5b0dae45-eb97-4fc6-9663-d2348d3f1db7"
      },
      "outputs": [],
      "source": [
        "loss_epoch = 0\n",
        "count=0\n",
        "for i,(img1,img2,label) in enumerate(dataloaders['val']):\n",
        "    img1 = img1.to(device)\n",
        "    img2=img2.to(device)\n",
        "    label = label.to(device)\n",
        "    with torch.no_grad():\n",
        "        out = model(img1,img2)\n",
        "        loss = criterion(out,label)\n",
        "\n",
        "    # track total loss\n",
        "    loss_epoch = loss_epoch+loss\n",
        "    count = count + len(label)\n",
        "print('Validation loss: {}'.format(loss_epoch.item()/count))"
      ]
    },
    {
      "cell_type": "code",
      "execution_count": null,
      "metadata": {
        "colab": {
          "base_uri": "https://localhost:8080/",
          "height": 493
        },
        "id": "-W8PWPoJgsYq",
        "outputId": "a414ce06-b114-4415-f2e4-622771010ff2"
      },
      "outputs": [],
      "source": [
        "# Visualise\n",
        "numex=5 #number of examples\n",
        "fig,ax = plt.subplots(2,numex,figsize=(15,5))\n",
        "for i in range(numex):\n",
        "    example = val_dataset[i]\n",
        "    utils.imshow(example[0],ax[0][i])\n",
        "    utils.imshow(example[1],ax[1][i])\n",
        "    distance = model(example[0].reshape(1,3,im_size,im_size).to(device),example[1].reshape(1,3,im_size,im_size).to(device))\n",
        "    ax[0][i].set_title('label:{},distance:{:.2}'.format(example[2].item(),distance.item()))\n",
        "plt.show()"
      ]
    },
    {
      "cell_type": "code",
      "execution_count": null,
      "metadata": {
        "colab": {
          "base_uri": "https://localhost:8080/"
        },
        "id": "s4Kw9s08gvs0",
        "outputId": "a1c15d2f-74c1-455f-b5e1-adadaa5926db"
      },
      "outputs": [],
      "source": [
        "threshs = np.linspace(start=0,stop=config['TRAIN']['lossmargin']*1.2,num=11)\n",
        "#threshs = [config['TRAIN']['lossmargin']/2]\n",
        "#threshs = [0.5]\n",
        "#threshs = np.linspace(start=0,stop=1,num=11)\n",
        "accs=[]\n",
        "sensitivity = []\n",
        "specificity = []\n",
        "precision = []\n",
        "f1=[]\n",
        "\n",
        "num=0\n",
        "for thresh in threshs:\n",
        "    pos=0\n",
        "    neg=0\n",
        "    conf = np.zeros((2,2))\n",
        "    for i,(img1,img2,label) in enumerate(dataloaders['val']):\n",
        "        img1=img1.to(device)\n",
        "        img2=img2.to(device)\n",
        "        label=label.to(device)\n",
        "        \n",
        "        with torch.no_grad():\n",
        "            out = model(img1,img2)\n",
        "        \n",
        "        conf[1,1] += torch.matmul(label.T*1.,(out>=thresh)*1.)\n",
        "        conf[1,0] += torch.matmul(label.T*1.,(out<thresh)*1.)\n",
        "        conf[0,1] += torch.matmul((1-label).T*1.,(out>=thresh)*1.)\n",
        "        conf[0,0] += torch.matmul((1-label).T*1.,(out<thresh)*1.)\n",
        "        pos = pos + torch.sum(label)\n",
        "        neg = neg + torch.sum(1-label)\n",
        "\n",
        "    accs.append(((conf[1,1]+conf[0,0])/(pos+neg)).item())\n",
        "    sensitivity.append((conf[0,0]/neg).item()) #changed 0 and 1 labels (0 is true in the loss fcn)\n",
        "    specificity.append((conf[1,1]/pos).item())\n",
        "    f1.append(((2*conf[0,0])/(2*conf[0,0]+conf[0,1]+conf[1,0])).item())\n",
        "    precision.append((conf[0,0]/(conf[0,0]+conf[1,0])).item())\n",
        "    \n",
        "    print(num)\n",
        "    num += 1"
      ]
    },
    {
      "cell_type": "code",
      "execution_count": null,
      "metadata": {},
      "outputs": [],
      "source": [
        "print(accs)\n",
        "print(f1)\n",
        "print(config['TRAIN']['lossmargin']*1.2)"
      ]
    },
    {
      "cell_type": "code",
      "execution_count": null,
      "metadata": {
        "id": "ITge6vnLg13I"
      },
      "outputs": [],
      "source": [
        "accs = np.array(accs)\n",
        "sensitivity = np.array(sensitivity)\n",
        "specificity = np.array(specificity)\n",
        "f1 = np.array(f1)\n",
        "precision = np.array(precision)\n",
        "\n",
        "m1 = np.argmax(accs)\n",
        "m2 = np.argmax(f1)"
      ]
    },
    {
      "cell_type": "code",
      "execution_count": null,
      "metadata": {
        "colab": {
          "base_uri": "https://localhost:8080/",
          "height": 296
        },
        "id": "RksTwARrg5lm",
        "outputId": "80a677e8-2bd2-43a2-c788-672bca68c412"
      },
      "outputs": [],
      "source": [
        "fig,ax = plt.subplots(1,3,figsize=(15,4))\n",
        "ax[0].plot(threshs,accs)\n",
        "ax[0].set_xlabel('threshold')\n",
        "ax[0].set_ylabel('accuracy')\n",
        "ax[1].plot(threshs,f1)\n",
        "ax[1].set_xlabel('threshold')\n",
        "ax[1].set_ylabel('f1-score')\n",
        "ax[2].plot(1-specificity,sensitivity,'o',label='_nolabel_')\n",
        "ax[2].set_xlabel('1-specificity')\n",
        "ax[2].set_ylabel('sensitivity')\n",
        "ax[2].plot(1-specificity[m1],sensitivity[m1],'ro',label='acc thresh:{}'.format(threshs[m1]))\n",
        "ax[2].plot(1-specificity[m2],sensitivity[m2],'go',label='f1 thresh:{}'.format(threshs[m2]))\n",
        "ax[2].legend()"
      ]
    },
    {
      "cell_type": "code",
      "execution_count": null,
      "metadata": {},
      "outputs": [],
      "source": [
        "name = \"saved\\\\\"+config['MODEL']['model']+\"_emb10_\"\n",
        "torch.save(threshs,name+'threshs.pkl')\n",
        "torch.save(accs,name+'accs.pkl')\n",
        "torch.save(f1,name+'f1.pkl')\n",
        "torch.save(specificity,name+'specificity.pkl')\n",
        "torch.save(sensitivity,name+'sensitivity.pkl')\n",
        "torch.save(precision,name+'precision.pkl')"
      ]
    },
    {
      "cell_type": "markdown",
      "metadata": {
        "id": "FxpLSmPKplld"
      },
      "source": [
        "## Test"
      ]
    },
    {
      "cell_type": "code",
      "execution_count": null,
      "metadata": {
        "colab": {
          "base_uri": "https://localhost:8080/"
        },
        "id": "vIlXH8jcplld",
        "outputId": "d97c5fb8-fd62-4998-b040-2b34d54eb9ce"
      },
      "outputs": [],
      "source": [
        "loss_epoch=0\n",
        "count=0\n",
        "for i,(img1,img2,label) in enumerate(dataloaders['test']):\n",
        "    with torch.no_grad():\n",
        "        out = model(img1,img2)\n",
        "        loss = criterion(out,label)\n",
        "\n",
        "    # track total loss\n",
        "    loss_epoch = loss_epoch+loss\n",
        "    count = count + len(label)\n",
        "print('Test loss: {}'.format(loss_epoch.item()/count))\n",
        "    "
      ]
    },
    {
      "cell_type": "code",
      "execution_count": null,
      "metadata": {
        "colab": {
          "base_uri": "https://localhost:8080/",
          "height": 493
        },
        "id": "sjh3GyZNplld",
        "outputId": "dc142981-53c3-4dfb-ca3f-5764390c7578"
      },
      "outputs": [],
      "source": [
        "# Visualise\n",
        "numex=5 #number of examples\n",
        "fig,ax = plt.subplots(2,numex,figsize=(15,5))\n",
        "for i in range(numex):\n",
        "    example = test_dataset[i]\n",
        "    utils.imshow(example[0],ax[0][i])\n",
        "    utils.imshow(example[1],ax[1][i])\n",
        "    distance = model(example[0].reshape(1,3,64,64),example[1].reshape(1,3,64,64))\n",
        "    ax[0][i].set_title('label:{},distance:{:.2}'.format(example[2].item(),distance.item()))\n",
        "plt.show()"
      ]
    },
    {
      "cell_type": "code",
      "execution_count": null,
      "metadata": {
        "id": "rcwX84fJplle"
      },
      "outputs": [],
      "source": [
        "threshs = [1]\n",
        "accs = []\n",
        "sensitivity = []\n",
        "specificity = []\n",
        "f1=[]\n",
        "\n",
        "\n",
        "for thresh in threshs:\n",
        "    pos=0\n",
        "    neg=0\n",
        "    conf = np.zeros((2,2))\n",
        "    for i,(img1,img2,label) in enumerate(dataloaders['test']):\n",
        "        with torch.no_grad():\n",
        "            out = model(img1,img2)\n",
        "        \n",
        "        conf[1,1] += torch.matmul(label.T,(out>=thresh)*1)\n",
        "        conf[1,0] += torch.matmul(label.T,(out<thresh)*1)\n",
        "        conf[0,1] += torch.matmul((1-label).T,(out>=thresh)*1)\n",
        "        conf[0,0] += torch.matmul((1-label).T,(out<thresh)*1)\n",
        "        pos = pos + torch.sum(label)\n",
        "        neg = neg + torch.sum(1-label)\n",
        "\n",
        "    accs.append(((conf[1,1]+conf[0,0])/(pos+neg)).item())\n",
        "    sensitivity.append((conf[0,0]/neg).item()) #changed 0 and 1 labels (0 is true in the loss fcn)\n",
        "    specificity.append((conf[1,1]/pos).item())\n",
        "    f1.append(((2*conf[0,0])/(2*conf[0,0]+conf[0,1]+conf[1,0])).item())\n",
        "    break"
      ]
    },
    {
      "cell_type": "code",
      "execution_count": null,
      "metadata": {
        "id": "Wp6r0gBJplle"
      },
      "outputs": [],
      "source": [
        "accs = np.array(accs)\n",
        "sensitivity = np.array(sensitivity)\n",
        "specificity = np.array(specificity)\n",
        "f1 = np.array(f1)\n",
        "\n",
        "m1 = np.argmax(accs)\n",
        "m2 = np.argmax(f1)"
      ]
    },
    {
      "cell_type": "code",
      "execution_count": null,
      "metadata": {
        "colab": {
          "base_uri": "https://localhost:8080/",
          "height": 299
        },
        "id": "cFtVNn7kplle",
        "outputId": "c3524574-5970-40d0-a66f-b528ee59a423"
      },
      "outputs": [],
      "source": [
        "fig,ax = plt.subplots(1,3,figsize=(15,4))\n",
        "ax[0].plot(threshs,accs)\n",
        "ax[0].set_xlabel('threshold')\n",
        "ax[0].set_ylabel('accuracy')\n",
        "ax[1].plot(threshs,f1)\n",
        "ax[1].set_xlabel('threshold')\n",
        "ax[1].set_ylabel('f1-score')\n",
        "ax[2].plot(1-specificity,sensitivity,'o',label='_nolabel_')\n",
        "ax[2].set_xlabel('1-specificity')\n",
        "ax[2].set_ylabel('sensitivity')\n",
        "ax[2].plot(1-specificity[m1],sensitivity[m1],'ro',label='acc thresh:{}'.format(threshs[m1]))\n",
        "ax[2].plot(1-specificity[m2],sensitivity[m2],'go',label='f1 thresh:{}'.format(threshs[m2]))\n",
        "ax[2].legend()"
      ]
    },
    {
      "cell_type": "markdown",
      "metadata": {
        "id": "-GjUqF_cplle"
      },
      "source": [
        "## Save model"
      ]
    },
    {
      "cell_type": "code",
      "execution_count": null,
      "metadata": {
        "id": "B-q-iEBJpllf"
      },
      "outputs": [],
      "source": [
        "model = model.to('cpu')\n",
        "config['MODEL']['modelpath']=\"models\\\\mobilenet_state_dict_emb10.pkl\"\n",
        "torch.save(model.state_dict(),config['MODEL']['modelpath'])"
      ]
    },
    {
      "cell_type": "code",
      "execution_count": null,
      "metadata": {},
      "outputs": [],
      "source": []
    },
    {
      "attachments": {},
      "cell_type": "markdown",
      "metadata": {},
      "source": [
        "# Exctract embeddings"
      ]
    },
    {
      "cell_type": "code",
      "execution_count": 14,
      "metadata": {},
      "outputs": [
        {
          "data": {
            "text/plain": [
              "MobileNetSiamese(\n",
              "  (distance): PairwiseDistance()\n",
              "  (network): MobileNet(\n",
              "    (cnn): MobileNetV2(\n",
              "      (features): Sequential(\n",
              "        (0): ConvBNActivation(\n",
              "          (0): Conv2d(3, 48, kernel_size=(3, 3), stride=(1, 1), padding=(1, 1), bias=False)\n",
              "          (1): BatchNorm2d(48, eps=1e-05, momentum=0.1, affine=True, track_running_stats=True)\n",
              "          (2): ReLU6(inplace=True)\n",
              "        )\n",
              "        (1): InvertedResidual(\n",
              "          (conv): Sequential(\n",
              "            (0): ConvBNActivation(\n",
              "              (0): Conv2d(48, 48, kernel_size=(3, 3), stride=(1, 1), padding=(1, 1), groups=48, bias=False)\n",
              "              (1): BatchNorm2d(48, eps=1e-05, momentum=0.1, affine=True, track_running_stats=True)\n",
              "              (2): ReLU6(inplace=True)\n",
              "            )\n",
              "            (1): Conv2d(48, 24, kernel_size=(1, 1), stride=(1, 1), bias=False)\n",
              "            (2): BatchNorm2d(24, eps=1e-05, momentum=0.1, affine=True, track_running_stats=True)\n",
              "          )\n",
              "        )\n",
              "        (2): InvertedResidual(\n",
              "          (conv): Sequential(\n",
              "            (0): ConvBNActivation(\n",
              "              (0): Conv2d(24, 144, kernel_size=(1, 1), stride=(1, 1), bias=False)\n",
              "              (1): BatchNorm2d(144, eps=1e-05, momentum=0.1, affine=True, track_running_stats=True)\n",
              "              (2): ReLU6(inplace=True)\n",
              "            )\n",
              "            (1): ConvBNActivation(\n",
              "              (0): Conv2d(144, 144, kernel_size=(3, 3), stride=(1, 1), padding=(1, 1), groups=144, bias=False)\n",
              "              (1): BatchNorm2d(144, eps=1e-05, momentum=0.1, affine=True, track_running_stats=True)\n",
              "              (2): ReLU6(inplace=True)\n",
              "            )\n",
              "            (2): Conv2d(144, 32, kernel_size=(1, 1), stride=(1, 1), bias=False)\n",
              "            (3): BatchNorm2d(32, eps=1e-05, momentum=0.1, affine=True, track_running_stats=True)\n",
              "          )\n",
              "        )\n",
              "        (3): InvertedResidual(\n",
              "          (conv): Sequential(\n",
              "            (0): ConvBNActivation(\n",
              "              (0): Conv2d(32, 192, kernel_size=(1, 1), stride=(1, 1), bias=False)\n",
              "              (1): BatchNorm2d(192, eps=1e-05, momentum=0.1, affine=True, track_running_stats=True)\n",
              "              (2): ReLU6(inplace=True)\n",
              "            )\n",
              "            (1): ConvBNActivation(\n",
              "              (0): Conv2d(192, 192, kernel_size=(3, 3), stride=(1, 1), padding=(1, 1), groups=192, bias=False)\n",
              "              (1): BatchNorm2d(192, eps=1e-05, momentum=0.1, affine=True, track_running_stats=True)\n",
              "              (2): ReLU6(inplace=True)\n",
              "            )\n",
              "            (2): Conv2d(192, 32, kernel_size=(1, 1), stride=(1, 1), bias=False)\n",
              "            (3): BatchNorm2d(32, eps=1e-05, momentum=0.1, affine=True, track_running_stats=True)\n",
              "          )\n",
              "        )\n",
              "        (4): InvertedResidual(\n",
              "          (conv): Sequential(\n",
              "            (0): ConvBNActivation(\n",
              "              (0): Conv2d(32, 192, kernel_size=(1, 1), stride=(1, 1), bias=False)\n",
              "              (1): BatchNorm2d(192, eps=1e-05, momentum=0.1, affine=True, track_running_stats=True)\n",
              "              (2): ReLU6(inplace=True)\n",
              "            )\n",
              "            (1): ConvBNActivation(\n",
              "              (0): Conv2d(192, 192, kernel_size=(3, 3), stride=(2, 2), padding=(1, 1), groups=192, bias=False)\n",
              "              (1): BatchNorm2d(192, eps=1e-05, momentum=0.1, affine=True, track_running_stats=True)\n",
              "              (2): ReLU6(inplace=True)\n",
              "            )\n",
              "            (2): Conv2d(192, 48, kernel_size=(1, 1), stride=(1, 1), bias=False)\n",
              "            (3): BatchNorm2d(48, eps=1e-05, momentum=0.1, affine=True, track_running_stats=True)\n",
              "          )\n",
              "        )\n",
              "        (5): InvertedResidual(\n",
              "          (conv): Sequential(\n",
              "            (0): ConvBNActivation(\n",
              "              (0): Conv2d(48, 288, kernel_size=(1, 1), stride=(1, 1), bias=False)\n",
              "              (1): BatchNorm2d(288, eps=1e-05, momentum=0.1, affine=True, track_running_stats=True)\n",
              "              (2): ReLU6(inplace=True)\n",
              "            )\n",
              "            (1): ConvBNActivation(\n",
              "              (0): Conv2d(288, 288, kernel_size=(3, 3), stride=(1, 1), padding=(1, 1), groups=288, bias=False)\n",
              "              (1): BatchNorm2d(288, eps=1e-05, momentum=0.1, affine=True, track_running_stats=True)\n",
              "              (2): ReLU6(inplace=True)\n",
              "            )\n",
              "            (2): Conv2d(288, 48, kernel_size=(1, 1), stride=(1, 1), bias=False)\n",
              "            (3): BatchNorm2d(48, eps=1e-05, momentum=0.1, affine=True, track_running_stats=True)\n",
              "          )\n",
              "        )\n",
              "        (6): InvertedResidual(\n",
              "          (conv): Sequential(\n",
              "            (0): ConvBNActivation(\n",
              "              (0): Conv2d(48, 288, kernel_size=(1, 1), stride=(1, 1), bias=False)\n",
              "              (1): BatchNorm2d(288, eps=1e-05, momentum=0.1, affine=True, track_running_stats=True)\n",
              "              (2): ReLU6(inplace=True)\n",
              "            )\n",
              "            (1): ConvBNActivation(\n",
              "              (0): Conv2d(288, 288, kernel_size=(3, 3), stride=(1, 1), padding=(1, 1), groups=288, bias=False)\n",
              "              (1): BatchNorm2d(288, eps=1e-05, momentum=0.1, affine=True, track_running_stats=True)\n",
              "              (2): ReLU6(inplace=True)\n",
              "            )\n",
              "            (2): Conv2d(288, 48, kernel_size=(1, 1), stride=(1, 1), bias=False)\n",
              "            (3): BatchNorm2d(48, eps=1e-05, momentum=0.1, affine=True, track_running_stats=True)\n",
              "          )\n",
              "        )\n",
              "        (7): InvertedResidual(\n",
              "          (conv): Sequential(\n",
              "            (0): ConvBNActivation(\n",
              "              (0): Conv2d(48, 288, kernel_size=(1, 1), stride=(1, 1), bias=False)\n",
              "              (1): BatchNorm2d(288, eps=1e-05, momentum=0.1, affine=True, track_running_stats=True)\n",
              "              (2): ReLU6(inplace=True)\n",
              "            )\n",
              "            (1): ConvBNActivation(\n",
              "              (0): Conv2d(288, 288, kernel_size=(3, 3), stride=(2, 2), padding=(1, 1), groups=288, bias=False)\n",
              "              (1): BatchNorm2d(288, eps=1e-05, momentum=0.1, affine=True, track_running_stats=True)\n",
              "              (2): ReLU6(inplace=True)\n",
              "            )\n",
              "            (2): Conv2d(288, 88, kernel_size=(1, 1), stride=(1, 1), bias=False)\n",
              "            (3): BatchNorm2d(88, eps=1e-05, momentum=0.1, affine=True, track_running_stats=True)\n",
              "          )\n",
              "        )\n",
              "        (8): InvertedResidual(\n",
              "          (conv): Sequential(\n",
              "            (0): ConvBNActivation(\n",
              "              (0): Conv2d(88, 528, kernel_size=(1, 1), stride=(1, 1), bias=False)\n",
              "              (1): BatchNorm2d(528, eps=1e-05, momentum=0.1, affine=True, track_running_stats=True)\n",
              "              (2): ReLU6(inplace=True)\n",
              "            )\n",
              "            (1): ConvBNActivation(\n",
              "              (0): Conv2d(528, 528, kernel_size=(3, 3), stride=(1, 1), padding=(1, 1), groups=528, bias=False)\n",
              "              (1): BatchNorm2d(528, eps=1e-05, momentum=0.1, affine=True, track_running_stats=True)\n",
              "              (2): ReLU6(inplace=True)\n",
              "            )\n",
              "            (2): Conv2d(528, 88, kernel_size=(1, 1), stride=(1, 1), bias=False)\n",
              "            (3): BatchNorm2d(88, eps=1e-05, momentum=0.1, affine=True, track_running_stats=True)\n",
              "          )\n",
              "        )\n",
              "        (9): InvertedResidual(\n",
              "          (conv): Sequential(\n",
              "            (0): ConvBNActivation(\n",
              "              (0): Conv2d(88, 528, kernel_size=(1, 1), stride=(1, 1), bias=False)\n",
              "              (1): BatchNorm2d(528, eps=1e-05, momentum=0.1, affine=True, track_running_stats=True)\n",
              "              (2): ReLU6(inplace=True)\n",
              "            )\n",
              "            (1): ConvBNActivation(\n",
              "              (0): Conv2d(528, 528, kernel_size=(3, 3), stride=(1, 1), padding=(1, 1), groups=528, bias=False)\n",
              "              (1): BatchNorm2d(528, eps=1e-05, momentum=0.1, affine=True, track_running_stats=True)\n",
              "              (2): ReLU6(inplace=True)\n",
              "            )\n",
              "            (2): Conv2d(528, 88, kernel_size=(1, 1), stride=(1, 1), bias=False)\n",
              "            (3): BatchNorm2d(88, eps=1e-05, momentum=0.1, affine=True, track_running_stats=True)\n",
              "          )\n",
              "        )\n",
              "        (10): InvertedResidual(\n",
              "          (conv): Sequential(\n",
              "            (0): ConvBNActivation(\n",
              "              (0): Conv2d(88, 528, kernel_size=(1, 1), stride=(1, 1), bias=False)\n",
              "              (1): BatchNorm2d(528, eps=1e-05, momentum=0.1, affine=True, track_running_stats=True)\n",
              "              (2): ReLU6(inplace=True)\n",
              "            )\n",
              "            (1): ConvBNActivation(\n",
              "              (0): Conv2d(528, 528, kernel_size=(3, 3), stride=(1, 1), padding=(1, 1), groups=528, bias=False)\n",
              "              (1): BatchNorm2d(528, eps=1e-05, momentum=0.1, affine=True, track_running_stats=True)\n",
              "              (2): ReLU6(inplace=True)\n",
              "            )\n",
              "            (2): Conv2d(528, 88, kernel_size=(1, 1), stride=(1, 1), bias=False)\n",
              "            (3): BatchNorm2d(88, eps=1e-05, momentum=0.1, affine=True, track_running_stats=True)\n",
              "          )\n",
              "        )\n",
              "        (11): InvertedResidual(\n",
              "          (conv): Sequential(\n",
              "            (0): ConvBNActivation(\n",
              "              (0): Conv2d(88, 528, kernel_size=(1, 1), stride=(1, 1), bias=False)\n",
              "              (1): BatchNorm2d(528, eps=1e-05, momentum=0.1, affine=True, track_running_stats=True)\n",
              "              (2): ReLU6(inplace=True)\n",
              "            )\n",
              "            (1): ConvBNActivation(\n",
              "              (0): Conv2d(528, 528, kernel_size=(3, 3), stride=(1, 1), padding=(1, 1), groups=528, bias=False)\n",
              "              (1): BatchNorm2d(528, eps=1e-05, momentum=0.1, affine=True, track_running_stats=True)\n",
              "              (2): ReLU6(inplace=True)\n",
              "            )\n",
              "            (2): Conv2d(528, 136, kernel_size=(1, 1), stride=(1, 1), bias=False)\n",
              "            (3): BatchNorm2d(136, eps=1e-05, momentum=0.1, affine=True, track_running_stats=True)\n",
              "          )\n",
              "        )\n",
              "        (12): InvertedResidual(\n",
              "          (conv): Sequential(\n",
              "            (0): ConvBNActivation(\n",
              "              (0): Conv2d(136, 816, kernel_size=(1, 1), stride=(1, 1), bias=False)\n",
              "              (1): BatchNorm2d(816, eps=1e-05, momentum=0.1, affine=True, track_running_stats=True)\n",
              "              (2): ReLU6(inplace=True)\n",
              "            )\n",
              "            (1): ConvBNActivation(\n",
              "              (0): Conv2d(816, 816, kernel_size=(3, 3), stride=(1, 1), padding=(1, 1), groups=816, bias=False)\n",
              "              (1): BatchNorm2d(816, eps=1e-05, momentum=0.1, affine=True, track_running_stats=True)\n",
              "              (2): ReLU6(inplace=True)\n",
              "            )\n",
              "            (2): Conv2d(816, 136, kernel_size=(1, 1), stride=(1, 1), bias=False)\n",
              "            (3): BatchNorm2d(136, eps=1e-05, momentum=0.1, affine=True, track_running_stats=True)\n",
              "          )\n",
              "        )\n",
              "        (13): InvertedResidual(\n",
              "          (conv): Sequential(\n",
              "            (0): ConvBNActivation(\n",
              "              (0): Conv2d(136, 816, kernel_size=(1, 1), stride=(1, 1), bias=False)\n",
              "              (1): BatchNorm2d(816, eps=1e-05, momentum=0.1, affine=True, track_running_stats=True)\n",
              "              (2): ReLU6(inplace=True)\n",
              "            )\n",
              "            (1): ConvBNActivation(\n",
              "              (0): Conv2d(816, 816, kernel_size=(3, 3), stride=(1, 1), padding=(1, 1), groups=816, bias=False)\n",
              "              (1): BatchNorm2d(816, eps=1e-05, momentum=0.1, affine=True, track_running_stats=True)\n",
              "              (2): ReLU6(inplace=True)\n",
              "            )\n",
              "            (2): Conv2d(816, 136, kernel_size=(1, 1), stride=(1, 1), bias=False)\n",
              "            (3): BatchNorm2d(136, eps=1e-05, momentum=0.1, affine=True, track_running_stats=True)\n",
              "          )\n",
              "        )\n",
              "        (14): InvertedResidual(\n",
              "          (conv): Sequential(\n",
              "            (0): ConvBNActivation(\n",
              "              (0): Conv2d(136, 816, kernel_size=(1, 1), stride=(1, 1), bias=False)\n",
              "              (1): BatchNorm2d(816, eps=1e-05, momentum=0.1, affine=True, track_running_stats=True)\n",
              "              (2): ReLU6(inplace=True)\n",
              "            )\n",
              "            (1): ConvBNActivation(\n",
              "              (0): Conv2d(816, 816, kernel_size=(3, 3), stride=(2, 2), padding=(1, 1), groups=816, bias=False)\n",
              "              (1): BatchNorm2d(816, eps=1e-05, momentum=0.1, affine=True, track_running_stats=True)\n",
              "              (2): ReLU6(inplace=True)\n",
              "            )\n",
              "            (2): Conv2d(816, 224, kernel_size=(1, 1), stride=(1, 1), bias=False)\n",
              "            (3): BatchNorm2d(224, eps=1e-05, momentum=0.1, affine=True, track_running_stats=True)\n",
              "          )\n",
              "        )\n",
              "        (15): InvertedResidual(\n",
              "          (conv): Sequential(\n",
              "            (0): ConvBNActivation(\n",
              "              (0): Conv2d(224, 1344, kernel_size=(1, 1), stride=(1, 1), bias=False)\n",
              "              (1): BatchNorm2d(1344, eps=1e-05, momentum=0.1, affine=True, track_running_stats=True)\n",
              "              (2): ReLU6(inplace=True)\n",
              "            )\n",
              "            (1): ConvBNActivation(\n",
              "              (0): Conv2d(1344, 1344, kernel_size=(3, 3), stride=(1, 1), padding=(1, 1), groups=1344, bias=False)\n",
              "              (1): BatchNorm2d(1344, eps=1e-05, momentum=0.1, affine=True, track_running_stats=True)\n",
              "              (2): ReLU6(inplace=True)\n",
              "            )\n",
              "            (2): Conv2d(1344, 224, kernel_size=(1, 1), stride=(1, 1), bias=False)\n",
              "            (3): BatchNorm2d(224, eps=1e-05, momentum=0.1, affine=True, track_running_stats=True)\n",
              "          )\n",
              "        )\n",
              "        (16): InvertedResidual(\n",
              "          (conv): Sequential(\n",
              "            (0): ConvBNActivation(\n",
              "              (0): Conv2d(224, 1344, kernel_size=(1, 1), stride=(1, 1), bias=False)\n",
              "              (1): BatchNorm2d(1344, eps=1e-05, momentum=0.1, affine=True, track_running_stats=True)\n",
              "              (2): ReLU6(inplace=True)\n",
              "            )\n",
              "            (1): ConvBNActivation(\n",
              "              (0): Conv2d(1344, 1344, kernel_size=(3, 3), stride=(1, 1), padding=(1, 1), groups=1344, bias=False)\n",
              "              (1): BatchNorm2d(1344, eps=1e-05, momentum=0.1, affine=True, track_running_stats=True)\n",
              "              (2): ReLU6(inplace=True)\n",
              "            )\n",
              "            (2): Conv2d(1344, 224, kernel_size=(1, 1), stride=(1, 1), bias=False)\n",
              "            (3): BatchNorm2d(224, eps=1e-05, momentum=0.1, affine=True, track_running_stats=True)\n",
              "          )\n",
              "        )\n",
              "        (17): InvertedResidual(\n",
              "          (conv): Sequential(\n",
              "            (0): ConvBNActivation(\n",
              "              (0): Conv2d(224, 1344, kernel_size=(1, 1), stride=(1, 1), bias=False)\n",
              "              (1): BatchNorm2d(1344, eps=1e-05, momentum=0.1, affine=True, track_running_stats=True)\n",
              "              (2): ReLU6(inplace=True)\n",
              "            )\n",
              "            (1): ConvBNActivation(\n",
              "              (0): Conv2d(1344, 1344, kernel_size=(3, 3), stride=(1, 1), padding=(1, 1), groups=1344, bias=False)\n",
              "              (1): BatchNorm2d(1344, eps=1e-05, momentum=0.1, affine=True, track_running_stats=True)\n",
              "              (2): ReLU6(inplace=True)\n",
              "            )\n",
              "            (2): Conv2d(1344, 448, kernel_size=(1, 1), stride=(1, 1), bias=False)\n",
              "            (3): BatchNorm2d(448, eps=1e-05, momentum=0.1, affine=True, track_running_stats=True)\n",
              "          )\n",
              "        )\n",
              "        (18): ConvBNActivation(\n",
              "          (0): Conv2d(448, 1792, kernel_size=(1, 1), stride=(1, 1), bias=False)\n",
              "          (1): BatchNorm2d(1792, eps=1e-05, momentum=0.1, affine=True, track_running_stats=True)\n",
              "          (2): ReLU6(inplace=True)\n",
              "        )\n",
              "      )\n",
              "      (classifier): Sequential(\n",
              "        (0): Linear(in_features=1792, out_features=64, bias=True)\n",
              "        (1): ReLU()\n",
              "        (2): Linear(in_features=64, out_features=20, bias=True)\n",
              "      )\n",
              "    )\n",
              "  )\n",
              ")"
            ]
          },
          "execution_count": 14,
          "metadata": {},
          "output_type": "execute_result"
        }
      ],
      "source": [
        "model = model.to(device)\n",
        "model.eval()"
      ]
    },
    {
      "cell_type": "code",
      "execution_count": 17,
      "metadata": {},
      "outputs": [],
      "source": [
        "train_embs = []\n",
        "train_labels = []\n",
        "val_embs = []\n",
        "val_labels = []"
      ]
    },
    {
      "cell_type": "code",
      "execution_count": 18,
      "metadata": {},
      "outputs": [],
      "source": [
        "for k in range(10):\n",
        "    for i,(img1,img2,label) in enumerate(dataloaders['train']):\n",
        "        img1 = img1.to(device)\n",
        "        img2 = img2.to(device)\n",
        "        with torch.no_grad():\n",
        "            out = model.getEmb(img1,img2)\n",
        "\n",
        "        train_embs+=out.tolist()\n",
        "        train_labels+=label.detach().tolist()"
      ]
    },
    {
      "cell_type": "code",
      "execution_count": 19,
      "metadata": {},
      "outputs": [],
      "source": [
        "for k in range(5):\n",
        "    for i,(img1,img2,label) in enumerate(dataloaders['val']):\n",
        "        img1 = img1.to(device)\n",
        "        img2 = img2.to(device)\n",
        "        with torch.no_grad():\n",
        "            out = model.getEmb(img1,img2)\n",
        "\n",
        "        val_embs+=out.tolist()\n",
        "        val_labels+=label.detach().tolist()"
      ]
    },
    {
      "cell_type": "code",
      "execution_count": 20,
      "metadata": {},
      "outputs": [],
      "source": [
        "modelname = \"saved\\\\\"+config['MODEL']['model']+'_'\n",
        "torch.save((train_embs,train_labels),modelname+'trainembs.pkl')\n",
        "torch.save((val_embs,val_labels),modelname+'valembs.pkl')"
      ]
    },
    {
      "cell_type": "code",
      "execution_count": null,
      "metadata": {},
      "outputs": [],
      "source": []
    }
  ],
  "metadata": {
    "accelerator": "GPU",
    "colab": {
      "collapsed_sections": [
        "FxpLSmPKplld",
        "-GjUqF_cplle"
      ],
      "provenance": []
    },
    "gpuClass": "standard",
    "kernelspec": {
      "display_name": "MLenv",
      "language": "python",
      "name": "python3"
    },
    "language_info": {
      "codemirror_mode": {
        "name": "ipython",
        "version": 3
      },
      "file_extension": ".py",
      "mimetype": "text/x-python",
      "name": "python",
      "nbconvert_exporter": "python",
      "pygments_lexer": "ipython3",
      "version": "3.10.4 | packaged by conda-forge | (main, Mar 30 2022, 08:38:02) [MSC v.1916 64 bit (AMD64)]"
    },
    "vscode": {
      "interpreter": {
        "hash": "665aa01f3af077fd5771c858d8fc10596be116db06e0fbc8e2a6e92782d15ae1"
      }
    }
  },
  "nbformat": 4,
  "nbformat_minor": 0
}
