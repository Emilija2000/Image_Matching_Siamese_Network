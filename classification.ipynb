{
  "cells": [
    {
      "cell_type": "markdown",
      "metadata": {
        "id": "Q93QhrZMpllR"
      },
      "source": [
        "# Image matching with Siamese networks\n",
        "## Dependencies"
      ]
    },
    {
      "cell_type": "code",
      "execution_count": 1,
      "metadata": {
        "id": "kfLmrjV1pllV"
      },
      "outputs": [],
      "source": [
        "import matplotlib.pyplot as plt\n",
        "import numpy as np\n",
        "\n",
        "import torch\n",
        "from torch import optim\n",
        "from torch.optim.lr_scheduler import StepLR\n",
        "from torchvision import transforms\n",
        "from torch.utils.data import DataLoader\n",
        "import utilities as utils \n",
        "from siameseDataloader import readDataFolder, dataSplits, MyImagenetDataset, EmbeddingDataset\n",
        "\n",
        "import torch.nn as nn\n",
        "\n",
        "from classifierModels import SimpleNetwork,Resnet20, EfficientNet,MobileNet,FCnet"
      ]
    },
    {
      "cell_type": "code",
      "execution_count": 2,
      "metadata": {
        "id": "ioGAoVNzpllW"
      },
      "outputs": [],
      "source": [
        "import os\n",
        "config = utils.load_config()\n",
        "datadir = os.path.join('data','tiny-imagenet-200-copy','train')#config['DATASET']['root']\n",
        "numclasses = config['DATASET']['numclasses']\n",
        "im_size = config['DATASET']['im_size']\n",
        "emb_size = config['MODEL']['embsize']\n",
        "\n",
        "seed = config['seed']\n",
        "np.random.seed(seed)"
      ]
    },
    {
      "attachments": {},
      "cell_type": "markdown",
      "metadata": {},
      "source": [
        "## Dataset for embs"
      ]
    },
    {
      "cell_type": "code",
      "execution_count": 3,
      "metadata": {},
      "outputs": [],
      "source": [
        "if config['MODEL']['model']=='embeddings':\n",
        "    train_dataset = EmbeddingDataset('trainembs.pkl')\n",
        "    val_dataset = EmbeddingDataset('valembs.pkl')\n",
        "    test_dataset = EmbeddingDataset('valembs.pkl')"
      ]
    },
    {
      "cell_type": "markdown",
      "metadata": {
        "id": "OI5tIw04pllX"
      },
      "source": [
        "## Dataset"
      ]
    },
    {
      "cell_type": "code",
      "execution_count": 4,
      "metadata": {
        "colab": {
          "base_uri": "https://localhost:8080/"
        },
        "id": "1pS1Wv6upllX",
        "outputId": "40ca24b7-da0e-4c02-ecff-6d01a6723e9d"
      },
      "outputs": [
        {
          "name": "stdout",
          "output_type": "stream",
          "text": [
            "Dataset ImageFolder\n",
            "    Number of datapoints: 25000\n",
            "    Root location: data\\tiny-imagenet-200-copy\\train\n"
          ]
        }
      ],
      "source": [
        "dataset = readDataFolder(datadir,numclasses)\n",
        "print(dataset)\n"
      ]
    },
    {
      "cell_type": "code",
      "execution_count": 5,
      "metadata": {
        "id": "OmlUZ4bAvSyA"
      },
      "outputs": [],
      "source": [
        "train_split,val_split,test_split = dataSplits(dataset,0.8,0.2,0)"
      ]
    },
    {
      "cell_type": "code",
      "execution_count": 6,
      "metadata": {
        "id": "Cy0bMF7rpllY"
      },
      "outputs": [],
      "source": [
        "train_transforms = transforms.Compose([\n",
        "    transforms.Resize(im_size+4),\n",
        "    transforms.CenterCrop(im_size),\n",
        "    transforms.ToTensor(),\n",
        "    #transforms.Normalize([0.4914, 0.4822, 0.4465], [0.2023, 0.1994, 0.2010])\n",
        "    transforms.Normalize([0.507, 0.4865, 0.4409], [0.2673, 0.2564, 0.2761])\n",
        "])\n",
        "test_transforms = transforms.Compose([\n",
        "    transforms.Resize(im_size),\n",
        "    transforms.CenterCrop(im_size),\n",
        "    transforms.ToTensor(),\n",
        "    #transforms.Normalize([0.4914, 0.4822, 0.4465], [0.2023, 0.1994, 0.2010])\n",
        "    transforms.Normalize([0.507, 0.4865, 0.4409], [0.2673, 0.2564, 0.2761])\n",
        "])\n",
        "\n",
        "train_dataset = MyImagenetDataset(train_split,train_transforms)\n",
        "val_dataset = MyImagenetDataset(val_split,test_transforms)\n",
        "test_dataset = MyImagenetDataset(test_split,test_transforms)\n",
        "\n",
        "datasets = {'train':train_dataset,'val':val_dataset,'test':test_dataset}"
      ]
    },
    {
      "attachments": {},
      "cell_type": "markdown",
      "metadata": {},
      "source": [
        "## Dataloader"
      ]
    },
    {
      "cell_type": "code",
      "execution_count": 7,
      "metadata": {
        "id": "MTWN4JlQpllY"
      },
      "outputs": [],
      "source": [
        "#dataloaders\n",
        "dataloaders = {\n",
        "    'train': DataLoader(train_dataset,shuffle=True,\n",
        "                        num_workers=config['TRAIN']['numworkers'],\n",
        "                        batch_size=config['TRAIN']['batchsize']),\n",
        "    'val': DataLoader(val_dataset,shuffle=False,\n",
        "                        num_workers=config['TRAIN']['numworkers'],\n",
        "                        batch_size=config['TRAIN']['batchsize']),\n",
        "    'test': DataLoader(test_dataset,shuffle=False,\n",
        "                        num_workers=config['TRAIN']['numworkers'],\n",
        "                        batch_size=config['TRAIN']['batchsize'])\n",
        "}"
      ]
    },
    {
      "cell_type": "markdown",
      "metadata": {
        "id": "JRwIBybxpllZ"
      },
      "source": [
        "## Model"
      ]
    },
    {
      "cell_type": "code",
      "execution_count": 8,
      "metadata": {
        "colab": {
          "base_uri": "https://localhost:8080/"
        },
        "id": "kcLN38fZpllZ",
        "outputId": "8c1bb3ef-8af5-45ee-e365-86a80319bdd8"
      },
      "outputs": [],
      "source": [
        "if config['MODEL']['model'] == 'simple':\n",
        "    model = SimpleNetwork(numclasses=numclasses,pretrained=config['MODEL']['pretrained'])\n",
        "elif config['MODEL']['model'] == 'resnet':\n",
        "    model = Resnet20(numclasses=numclasses)\n",
        "elif config['MODEL']['model'] == 'mobilenet':\n",
        "    model = MobileNet(numclasses=numclasses)\n",
        "elif config['MODEL']['model'] == 'efficient':\n",
        "    model = EfficientNet(numclasses=numclasses)\n",
        "elif config['MODEL']['model']=='embeddings':\n",
        "    model = FCnet(emb_size*2,1)\n",
        "else:\n",
        "    model = SimpleNetwork()"
      ]
    },
    {
      "cell_type": "code",
      "execution_count": 9,
      "metadata": {},
      "outputs": [
        {
          "name": "stdout",
          "output_type": "stream",
          "text": [
            "70418\n"
          ]
        }
      ],
      "source": [
        "pytorch_total_params = sum(p.numel() for p in model.parameters() if p.requires_grad)\n",
        "print(pytorch_total_params)"
      ]
    },
    {
      "cell_type": "code",
      "execution_count": 10,
      "metadata": {
        "colab": {
          "base_uri": "https://localhost:8080/"
        },
        "id": "nlyIXdtJplla",
        "outputId": "3c41d846-7bda-497a-f9cf-fffaad2a5202"
      },
      "outputs": [
        {
          "name": "stdout",
          "output_type": "stream",
          "text": [
            "tensor([[-0.0919,  0.0166,  0.0144, -0.1575, -0.1179, -0.0589,  0.1660, -0.1011,\n",
            "          0.0425,  0.0645, -0.1261, -0.0803,  0.0768,  0.0817, -0.0996,  0.0634,\n",
            "          0.0797, -0.0752,  0.0932, -0.0533,  0.0128,  0.0467, -0.0336,  0.1242,\n",
            "         -0.0347,  0.0767,  0.1226,  0.0209, -0.0007,  0.0398,  0.0585, -0.1370,\n",
            "         -0.0675,  0.0171, -0.0316,  0.0596, -0.0804, -0.0832,  0.0625, -0.0265,\n",
            "         -0.1092,  0.0483, -0.0465, -0.0536, -0.0897, -0.0738, -0.0011,  0.0234,\n",
            "          0.0394,  0.0353]], grad_fn=<AddmmBackward0>)\n",
            "tensor(17) tensor([[6]]) tensor(False)\n"
          ]
        }
      ],
      "source": [
        "data,labels = train_dataset[100]\n",
        "out = model(data.reshape(1,3,im_size,im_size))\n",
        "print(out)\n",
        "\n",
        "top_p , top_class = torch.topk(out,1,dim=1)\n",
        "equals = top_class.view(size=labels.shape) == labels\n",
        "print(labels,top_class,equals)\n"
      ]
    },
    {
      "cell_type": "code",
      "execution_count": 11,
      "metadata": {},
      "outputs": [
        {
          "ename": "RuntimeError",
          "evalue": "Failed to run torchgraph see error message",
          "output_type": "error",
          "traceback": [
            "\u001b[1;31m---------------------------------------------------------------------------\u001b[0m",
            "\u001b[1;31mNotImplementedError\u001b[0m                       Traceback (most recent call last)",
            "File \u001b[1;32mc:\\Users\\Emilija\\.conda\\envs\\MLenv\\lib\\site-packages\\torchview\\torchview.py:256\u001b[0m, in \u001b[0;36mforward_prop\u001b[1;34m(model, x, device, model_graph, mode, **kwargs)\u001b[0m\n\u001b[0;32m    255\u001b[0m \u001b[39mif\u001b[39;00m \u001b[39misinstance\u001b[39m(x, (\u001b[39mlist\u001b[39m, \u001b[39mtuple\u001b[39m)):\n\u001b[1;32m--> 256\u001b[0m     _ \u001b[39m=\u001b[39m model\u001b[39m.\u001b[39mto(device)(\u001b[39m*\u001b[39mx, \u001b[39m*\u001b[39m\u001b[39m*\u001b[39mkwargs)\n\u001b[0;32m    257\u001b[0m \u001b[39melif\u001b[39;00m \u001b[39misinstance\u001b[39m(x, Mapping):\n",
            "File \u001b[1;32mc:\\Users\\Emilija\\.conda\\envs\\MLenv\\lib\\site-packages\\torchview\\recorder_tensor.py:135\u001b[0m, in \u001b[0;36mmodule_forward_wrapper.<locals>._module_forward_wrapper\u001b[1;34m(mod, *args, **kwargs)\u001b[0m\n\u001b[0;32m    133\u001b[0m \u001b[39m# TODO: check if output contains RecorderTensor\u001b[39;00m\n\u001b[0;32m    134\u001b[0m \u001b[39m# this seems not to be necessary so far\u001b[39;00m\n\u001b[1;32m--> 135\u001b[0m out \u001b[39m=\u001b[39m _orig_module_forward(mod, \u001b[39m*\u001b[39margs, \u001b[39m*\u001b[39m\u001b[39m*\u001b[39mkwargs)\n\u001b[0;32m    137\u001b[0m model_graph\u001b[39m.\u001b[39mcontext_tracker[\u001b[39m'\u001b[39m\u001b[39mcurrent_depth\u001b[39m\u001b[39m'\u001b[39m] \u001b[39m=\u001b[39m cur_depth\n",
            "File \u001b[1;32mc:\\Users\\Emilija\\.conda\\envs\\MLenv\\lib\\site-packages\\torch\\nn\\modules\\module.py:1110\u001b[0m, in \u001b[0;36mModule._call_impl\u001b[1;34m(self, *input, **kwargs)\u001b[0m\n\u001b[0;32m   1108\u001b[0m \u001b[39mif\u001b[39;00m \u001b[39mnot\u001b[39;00m (\u001b[39mself\u001b[39m\u001b[39m.\u001b[39m_backward_hooks \u001b[39mor\u001b[39;00m \u001b[39mself\u001b[39m\u001b[39m.\u001b[39m_forward_hooks \u001b[39mor\u001b[39;00m \u001b[39mself\u001b[39m\u001b[39m.\u001b[39m_forward_pre_hooks \u001b[39mor\u001b[39;00m _global_backward_hooks\n\u001b[0;32m   1109\u001b[0m         \u001b[39mor\u001b[39;00m _global_forward_hooks \u001b[39mor\u001b[39;00m _global_forward_pre_hooks):\n\u001b[1;32m-> 1110\u001b[0m     \u001b[39mreturn\u001b[39;00m forward_call(\u001b[39m*\u001b[39m\u001b[39minput\u001b[39m, \u001b[39m*\u001b[39m\u001b[39m*\u001b[39mkwargs)\n\u001b[0;32m   1111\u001b[0m \u001b[39m# Do not call functions when jit is used\u001b[39;00m\n",
            "File \u001b[1;32mc:\\Users\\Emilija\\Desktop\\cambridge\\lecture material\\CV\\Image_Matching_Siamese_Network\\classifierModels.py:51\u001b[0m, in \u001b[0;36mSimpleNetwork.forward\u001b[1;34m(self, x)\u001b[0m\n\u001b[0;32m     50\u001b[0m \u001b[39mdef\u001b[39;00m \u001b[39mforward\u001b[39m(\u001b[39mself\u001b[39m, x):\n\u001b[1;32m---> 51\u001b[0m     output \u001b[39m=\u001b[39m \u001b[39mself\u001b[39;49m\u001b[39m.\u001b[39;49mcnn(x)\n\u001b[0;32m     52\u001b[0m     output \u001b[39m=\u001b[39m output\u001b[39m.\u001b[39mview(output\u001b[39m.\u001b[39msize()[\u001b[39m0\u001b[39m], \u001b[39m-\u001b[39m\u001b[39m1\u001b[39m)\n",
            "File \u001b[1;32mc:\\Users\\Emilija\\.conda\\envs\\MLenv\\lib\\site-packages\\torchview\\recorder_tensor.py:135\u001b[0m, in \u001b[0;36mmodule_forward_wrapper.<locals>._module_forward_wrapper\u001b[1;34m(mod, *args, **kwargs)\u001b[0m\n\u001b[0;32m    133\u001b[0m \u001b[39m# TODO: check if output contains RecorderTensor\u001b[39;00m\n\u001b[0;32m    134\u001b[0m \u001b[39m# this seems not to be necessary so far\u001b[39;00m\n\u001b[1;32m--> 135\u001b[0m out \u001b[39m=\u001b[39m _orig_module_forward(mod, \u001b[39m*\u001b[39margs, \u001b[39m*\u001b[39m\u001b[39m*\u001b[39mkwargs)\n\u001b[0;32m    137\u001b[0m model_graph\u001b[39m.\u001b[39mcontext_tracker[\u001b[39m'\u001b[39m\u001b[39mcurrent_depth\u001b[39m\u001b[39m'\u001b[39m] \u001b[39m=\u001b[39m cur_depth\n",
            "File \u001b[1;32mc:\\Users\\Emilija\\.conda\\envs\\MLenv\\lib\\site-packages\\torch\\nn\\modules\\module.py:1110\u001b[0m, in \u001b[0;36mModule._call_impl\u001b[1;34m(self, *input, **kwargs)\u001b[0m\n\u001b[0;32m   1108\u001b[0m \u001b[39mif\u001b[39;00m \u001b[39mnot\u001b[39;00m (\u001b[39mself\u001b[39m\u001b[39m.\u001b[39m_backward_hooks \u001b[39mor\u001b[39;00m \u001b[39mself\u001b[39m\u001b[39m.\u001b[39m_forward_hooks \u001b[39mor\u001b[39;00m \u001b[39mself\u001b[39m\u001b[39m.\u001b[39m_forward_pre_hooks \u001b[39mor\u001b[39;00m _global_backward_hooks\n\u001b[0;32m   1109\u001b[0m         \u001b[39mor\u001b[39;00m _global_forward_hooks \u001b[39mor\u001b[39;00m _global_forward_pre_hooks):\n\u001b[1;32m-> 1110\u001b[0m     \u001b[39mreturn\u001b[39;00m forward_call(\u001b[39m*\u001b[39m\u001b[39minput\u001b[39m, \u001b[39m*\u001b[39m\u001b[39m*\u001b[39mkwargs)\n\u001b[0;32m   1111\u001b[0m \u001b[39m# Do not call functions when jit is used\u001b[39;00m\n",
            "File \u001b[1;32mc:\\Users\\Emilija\\.conda\\envs\\MLenv\\lib\\site-packages\\torch\\nn\\modules\\container.py:141\u001b[0m, in \u001b[0;36mSequential.forward\u001b[1;34m(self, input)\u001b[0m\n\u001b[0;32m    140\u001b[0m \u001b[39mfor\u001b[39;00m module \u001b[39min\u001b[39;00m \u001b[39mself\u001b[39m:\n\u001b[1;32m--> 141\u001b[0m     \u001b[39minput\u001b[39m \u001b[39m=\u001b[39m module(\u001b[39minput\u001b[39;49m)\n\u001b[0;32m    142\u001b[0m \u001b[39mreturn\u001b[39;00m \u001b[39minput\u001b[39m\n",
            "File \u001b[1;32mc:\\Users\\Emilija\\.conda\\envs\\MLenv\\lib\\site-packages\\torchview\\recorder_tensor.py:135\u001b[0m, in \u001b[0;36mmodule_forward_wrapper.<locals>._module_forward_wrapper\u001b[1;34m(mod, *args, **kwargs)\u001b[0m\n\u001b[0;32m    133\u001b[0m \u001b[39m# TODO: check if output contains RecorderTensor\u001b[39;00m\n\u001b[0;32m    134\u001b[0m \u001b[39m# this seems not to be necessary so far\u001b[39;00m\n\u001b[1;32m--> 135\u001b[0m out \u001b[39m=\u001b[39m _orig_module_forward(mod, \u001b[39m*\u001b[39margs, \u001b[39m*\u001b[39m\u001b[39m*\u001b[39mkwargs)\n\u001b[0;32m    137\u001b[0m model_graph\u001b[39m.\u001b[39mcontext_tracker[\u001b[39m'\u001b[39m\u001b[39mcurrent_depth\u001b[39m\u001b[39m'\u001b[39m] \u001b[39m=\u001b[39m cur_depth\n",
            "File \u001b[1;32mc:\\Users\\Emilija\\.conda\\envs\\MLenv\\lib\\site-packages\\torch\\nn\\modules\\module.py:1110\u001b[0m, in \u001b[0;36mModule._call_impl\u001b[1;34m(self, *input, **kwargs)\u001b[0m\n\u001b[0;32m   1108\u001b[0m \u001b[39mif\u001b[39;00m \u001b[39mnot\u001b[39;00m (\u001b[39mself\u001b[39m\u001b[39m.\u001b[39m_backward_hooks \u001b[39mor\u001b[39;00m \u001b[39mself\u001b[39m\u001b[39m.\u001b[39m_forward_hooks \u001b[39mor\u001b[39;00m \u001b[39mself\u001b[39m\u001b[39m.\u001b[39m_forward_pre_hooks \u001b[39mor\u001b[39;00m _global_backward_hooks\n\u001b[0;32m   1109\u001b[0m         \u001b[39mor\u001b[39;00m _global_forward_hooks \u001b[39mor\u001b[39;00m _global_forward_pre_hooks):\n\u001b[1;32m-> 1110\u001b[0m     \u001b[39mreturn\u001b[39;00m forward_call(\u001b[39m*\u001b[39m\u001b[39minput\u001b[39m, \u001b[39m*\u001b[39m\u001b[39m*\u001b[39mkwargs)\n\u001b[0;32m   1111\u001b[0m \u001b[39m# Do not call functions when jit is used\u001b[39;00m\n",
            "File \u001b[1;32mc:\\Users\\Emilija\\.conda\\envs\\MLenv\\lib\\site-packages\\torch\\nn\\modules\\conv.py:447\u001b[0m, in \u001b[0;36mConv2d.forward\u001b[1;34m(self, input)\u001b[0m\n\u001b[0;32m    446\u001b[0m \u001b[39mdef\u001b[39;00m \u001b[39mforward\u001b[39m(\u001b[39mself\u001b[39m, \u001b[39minput\u001b[39m: Tensor) \u001b[39m-\u001b[39m\u001b[39m>\u001b[39m Tensor:\n\u001b[1;32m--> 447\u001b[0m     \u001b[39mreturn\u001b[39;00m \u001b[39mself\u001b[39;49m\u001b[39m.\u001b[39;49m_conv_forward(\u001b[39minput\u001b[39;49m, \u001b[39mself\u001b[39;49m\u001b[39m.\u001b[39;49mweight, \u001b[39mself\u001b[39;49m\u001b[39m.\u001b[39;49mbias)\n",
            "File \u001b[1;32mc:\\Users\\Emilija\\.conda\\envs\\MLenv\\lib\\site-packages\\torch\\nn\\modules\\conv.py:443\u001b[0m, in \u001b[0;36mConv2d._conv_forward\u001b[1;34m(self, input, weight, bias)\u001b[0m\n\u001b[0;32m    440\u001b[0m     \u001b[39mreturn\u001b[39;00m F\u001b[39m.\u001b[39mconv2d(F\u001b[39m.\u001b[39mpad(\u001b[39minput\u001b[39m, \u001b[39mself\u001b[39m\u001b[39m.\u001b[39m_reversed_padding_repeated_twice, mode\u001b[39m=\u001b[39m\u001b[39mself\u001b[39m\u001b[39m.\u001b[39mpadding_mode),\n\u001b[0;32m    441\u001b[0m                     weight, bias, \u001b[39mself\u001b[39m\u001b[39m.\u001b[39mstride,\n\u001b[0;32m    442\u001b[0m                     _pair(\u001b[39m0\u001b[39m), \u001b[39mself\u001b[39m\u001b[39m.\u001b[39mdilation, \u001b[39mself\u001b[39m\u001b[39m.\u001b[39mgroups)\n\u001b[1;32m--> 443\u001b[0m \u001b[39mreturn\u001b[39;00m F\u001b[39m.\u001b[39;49mconv2d(\u001b[39minput\u001b[39;49m, weight, bias, \u001b[39mself\u001b[39;49m\u001b[39m.\u001b[39;49mstride,\n\u001b[0;32m    444\u001b[0m                 \u001b[39mself\u001b[39;49m\u001b[39m.\u001b[39;49mpadding, \u001b[39mself\u001b[39;49m\u001b[39m.\u001b[39;49mdilation, \u001b[39mself\u001b[39;49m\u001b[39m.\u001b[39;49mgroups)\n",
            "File \u001b[1;32mc:\\Users\\Emilija\\.conda\\envs\\MLenv\\lib\\site-packages\\torchview\\recorder_tensor.py:233\u001b[0m, in \u001b[0;36mRecorderTensor.__torch_function__\u001b[1;34m(cls, func, types, args, kwargs)\u001b[0m\n\u001b[0;32m    230\u001b[0m \u001b[39melse\u001b[39;00m:\n\u001b[0;32m    231\u001b[0m     \u001b[39m# use original torch_function; otherwise,\u001b[39;00m\n\u001b[0;32m    232\u001b[0m     \u001b[39m# it leads to infinite recursive call of torch_function\u001b[39;00m\n\u001b[1;32m--> 233\u001b[0m     out \u001b[39m=\u001b[39m \u001b[39msuper\u001b[39;49m()\u001b[39m.\u001b[39;49m__torch_function__(func, types, args, kwargs)\n\u001b[0;32m    235\u001b[0m \u001b[39m# if no RecorderTensor is found in input or output\u001b[39;00m\n\u001b[0;32m    236\u001b[0m \u001b[39m# dont create any node, give the result only\u001b[39;00m\n",
            "File \u001b[1;32mc:\\Users\\Emilija\\.conda\\envs\\MLenv\\lib\\site-packages\\torch\\_tensor.py:1142\u001b[0m, in \u001b[0;36mTensor.__torch_function__\u001b[1;34m(cls, func, types, args, kwargs)\u001b[0m\n\u001b[0;32m   1141\u001b[0m \u001b[39mwith\u001b[39;00m _C\u001b[39m.\u001b[39mDisableTorchFunction():\n\u001b[1;32m-> 1142\u001b[0m     ret \u001b[39m=\u001b[39m func(\u001b[39m*\u001b[39margs, \u001b[39m*\u001b[39m\u001b[39m*\u001b[39mkwargs)\n\u001b[0;32m   1143\u001b[0m     \u001b[39mif\u001b[39;00m func \u001b[39min\u001b[39;00m get_default_nowrap_functions():\n",
            "\u001b[1;31mNotImplementedError\u001b[0m: convolution_overrideable not implemented. You are likely triggering this with tensor backend other than CPU/CUDA/MKLDNN, if this is intended, please use TORCH_LIBRARY_IMPL to override this function ",
            "\nThe above exception was the direct cause of the following exception:\n",
            "\u001b[1;31mRuntimeError\u001b[0m                              Traceback (most recent call last)",
            "\u001b[1;32mc:\\Users\\Emilija\\Desktop\\cambridge\\lecture material\\CV\\Image_Matching_Siamese_Network\\classification.ipynb Cell 16\u001b[0m in \u001b[0;36m<cell line: 4>\u001b[1;34m()\u001b[0m\n\u001b[0;32m      <a href='vscode-notebook-cell:/c%3A/Users/Emilija/Desktop/cambridge/lecture%20material/CV/Image_Matching_Siamese_Network/classification.ipynb#X52sZmlsZQ%3D%3D?line=0'>1</a>\u001b[0m \u001b[39mfrom\u001b[39;00m \u001b[39mtorchview\u001b[39;00m \u001b[39mimport\u001b[39;00m draw_graph\n\u001b[0;32m      <a href='vscode-notebook-cell:/c%3A/Users/Emilija/Desktop/cambridge/lecture%20material/CV/Image_Matching_Siamese_Network/classification.ipynb#X52sZmlsZQ%3D%3D?line=2'>3</a>\u001b[0m \u001b[39m# device='meta' -> no memory is consumed for visualization\u001b[39;00m\n\u001b[1;32m----> <a href='vscode-notebook-cell:/c%3A/Users/Emilija/Desktop/cambridge/lecture%20material/CV/Image_Matching_Siamese_Network/classification.ipynb#X52sZmlsZQ%3D%3D?line=3'>4</a>\u001b[0m model_graph \u001b[39m=\u001b[39m draw_graph(model, input_size\u001b[39m=\u001b[39;49m(\u001b[39m1\u001b[39;49m,\u001b[39m3\u001b[39;49m,\u001b[39m64\u001b[39;49m,\u001b[39m64\u001b[39;49m), device\u001b[39m=\u001b[39;49m\u001b[39m'\u001b[39;49m\u001b[39mmeta\u001b[39;49m\u001b[39m'\u001b[39;49m)\n\u001b[0;32m      <a href='vscode-notebook-cell:/c%3A/Users/Emilija/Desktop/cambridge/lecture%20material/CV/Image_Matching_Siamese_Network/classification.ipynb#X52sZmlsZQ%3D%3D?line=4'>5</a>\u001b[0m model_graph\u001b[39m.\u001b[39mvisual_graph\n",
            "File \u001b[1;32mc:\\Users\\Emilija\\.conda\\envs\\MLenv\\lib\\site-packages\\torchview\\torchview.py:220\u001b[0m, in \u001b[0;36mdraw_graph\u001b[1;34m(model, input_data, input_size, graph_name, depth, device, dtypes, mode, strict, expand_nested, graph_dir, hide_module_functions, hide_inner_tensors, roll, show_shapes, save_graph, filename, directory, **kwargs)\u001b[0m\n\u001b[0;32m    211\u001b[0m input_recorder_tensor, kwargs_record_tensor, input_nodes \u001b[39m=\u001b[39m process_input(\n\u001b[0;32m    212\u001b[0m     input_data, input_size, kwargs, device, dtypes\n\u001b[0;32m    213\u001b[0m )\n\u001b[0;32m    215\u001b[0m model_graph \u001b[39m=\u001b[39m ComputationGraph(\n\u001b[0;32m    216\u001b[0m     visual_graph, input_nodes, show_shapes, expand_nested,\n\u001b[0;32m    217\u001b[0m     hide_inner_tensors, hide_module_functions, roll, depth\n\u001b[0;32m    218\u001b[0m )\n\u001b[1;32m--> 220\u001b[0m forward_prop(\n\u001b[0;32m    221\u001b[0m     model, input_recorder_tensor, device, model_graph,\n\u001b[0;32m    222\u001b[0m     model_mode, \u001b[39m*\u001b[39m\u001b[39m*\u001b[39mkwargs_record_tensor\n\u001b[0;32m    223\u001b[0m )\n\u001b[0;32m    225\u001b[0m model_graph\u001b[39m.\u001b[39mfill_visual_graph()\n\u001b[0;32m    227\u001b[0m \u001b[39mif\u001b[39;00m save_graph:\n",
            "File \u001b[1;32mc:\\Users\\Emilija\\.conda\\envs\\MLenv\\lib\\site-packages\\torchview\\torchview.py:264\u001b[0m, in \u001b[0;36mforward_prop\u001b[1;34m(model, x, device, model_graph, mode, **kwargs)\u001b[0m\n\u001b[0;32m    262\u001b[0m                 \u001b[39mraise\u001b[39;00m \u001b[39mValueError\u001b[39;00m(\u001b[39m\"\u001b[39m\u001b[39mUnknown input type\u001b[39m\u001b[39m\"\u001b[39m)\n\u001b[0;32m    263\u001b[0m \u001b[39mexcept\u001b[39;00m \u001b[39mException\u001b[39;00m \u001b[39mas\u001b[39;00m e:\n\u001b[1;32m--> 264\u001b[0m     \u001b[39mraise\u001b[39;00m \u001b[39mRuntimeError\u001b[39;00m(\n\u001b[0;32m    265\u001b[0m         \u001b[39m\"\u001b[39m\u001b[39mFailed to run torchgraph see error message\u001b[39m\u001b[39m\"\u001b[39m\n\u001b[0;32m    266\u001b[0m     ) \u001b[39mfrom\u001b[39;00m \u001b[39me\u001b[39;00m\n\u001b[0;32m    267\u001b[0m \u001b[39mfinally\u001b[39;00m:\n\u001b[0;32m    268\u001b[0m     model\u001b[39m.\u001b[39mtrain(saved_model_mode)\n",
            "\u001b[1;31mRuntimeError\u001b[0m: Failed to run torchgraph see error message"
          ]
        }
      ],
      "source": [
        "from torchview import draw_graph\n",
        "\n",
        "# device='meta' -> no memory is consumed for visualization\n",
        "model_graph = draw_graph(model, input_size=(1,3,64,64), device='meta')\n",
        "model_graph.visual_graph"
      ]
    },
    {
      "cell_type": "markdown",
      "metadata": {
        "id": "NAgPodwZpllb"
      },
      "source": [
        "## Train"
      ]
    },
    {
      "cell_type": "code",
      "execution_count": null,
      "metadata": {},
      "outputs": [],
      "source": [
        "#criterion = nn.CrossEntropyLoss()\n",
        "criterion = nn.BCELoss()\n",
        "\n",
        "config['TRAIN']['lr'] =0.0005\n",
        "optimizer = optim.Adam(model.parameters(),lr = config['TRAIN']['lr'],weight_decay=0)\n",
        "scheduler = StepLR(optimizer, step_size=5, gamma=0.1)"
      ]
    },
    {
      "cell_type": "code",
      "execution_count": null,
      "metadata": {
        "id": "caaBjVTzpllb"
      },
      "outputs": [],
      "source": [
        "device = config['TRAIN']['device']\n",
        "model = model.to(device)"
      ]
    },
    {
      "cell_type": "code",
      "execution_count": null,
      "metadata": {
        "id": "jPpgvdHTpllc"
      },
      "outputs": [],
      "source": [
        "loss_history ={'train':[],'val':[]}\n",
        "acc_history ={'train':[],'val':[]}"
      ]
    },
    {
      "cell_type": "code",
      "execution_count": null,
      "metadata": {
        "colab": {
          "base_uri": "https://localhost:8080/"
        },
        "id": "KMYzWIedpllc",
        "outputId": "3b82562b-596a-4f37-f113-3df4505962e2"
      },
      "outputs": [],
      "source": [
        "\n",
        "for epoch in range(config['TRAIN']['numepochs']):\n",
        "    for mode in ['train','val']:\n",
        "        loss_epoch=0\n",
        "        count=0\n",
        "        correct=0\n",
        "        \n",
        "        for i,(img,label) in enumerate(dataloaders[mode]):\n",
        "            img = img.to(device)\n",
        "            label = label.to(device)\n",
        "            \n",
        "            if mode=='train':\n",
        "                model.train()\n",
        "                \n",
        "                optimizer.zero_grad()\n",
        "                out = model(img)\n",
        "                loss = criterion(out,label)\n",
        "                loss.backward()\n",
        "                optimizer.step()\n",
        "                \n",
        "            else:\n",
        "                model.eval()\n",
        "                with torch.no_grad():\n",
        "                    out = model(img)\n",
        "                    loss = criterion(out,label)\n",
        "            \n",
        "            # track total loss\n",
        "            loss_epoch = loss_epoch+loss\n",
        "            count = count + len(label)\n",
        "            \n",
        "            #top_p , top_class = torch.topk(out,1,dim=1)\n",
        "            #equals = label-top_class.flatten()==0\n",
        "            top_class = (out>=0.5)*1.0\n",
        "            equals = label.flatten()-top_class.flatten()==0\n",
        "            \n",
        "            correct += torch.sum(equals)\n",
        "            \n",
        "        scheduler.step()\n",
        "\n",
        "        loss_history[mode].append(loss_epoch.item()/count)\n",
        "        acc_history[mode].append(correct.item()*1.0/count)\n",
        "    \n",
        "    print('Epoch: {}\\t train loss:{:.5},\\t val loss:{:.5},\\t train acc:{:.5},\\t val acc:{:.5}'.format(epoch,loss_history['train'][-1],loss_history['val'][-1],acc_history['train'][-1],acc_history['val'][-1]))\n",
        "    \n",
        "            \n",
        "            "
      ]
    },
    {
      "cell_type": "code",
      "execution_count": null,
      "metadata": {
        "colab": {
          "base_uri": "https://localhost:8080/",
          "height": 282
        },
        "id": "FSjCw2Jppllc",
        "outputId": "fb64d293-3dd8-4b38-e43a-b679a603dfc3"
      },
      "outputs": [],
      "source": [
        "fig,ax = plt.subplots(1,2,figsize=(10,5))\n",
        "ax[0].plot(loss_history['train'],'b-')\n",
        "ax[0].plot(loss_history['val'],'r-')\n",
        "ax[0].set_title('Loss')\n",
        "ax[1].plot(acc_history['train'],'b-')\n",
        "ax[1].plot(acc_history['val'],'r-')\n",
        "ax[1].set_title('Acc')"
      ]
    },
    {
      "attachments": {},
      "cell_type": "markdown",
      "metadata": {},
      "source": [
        "# SVM"
      ]
    },
    {
      "cell_type": "code",
      "execution_count": null,
      "metadata": {},
      "outputs": [],
      "source": [
        "import numpy as np\n",
        "import torch\n",
        "import matplotlib.pyplot as plt\n",
        "\n",
        "X_train, y_train = torch.load('saved\\\\trainembs_triplet.pkl')\n",
        "X_val,y_val = torch.load('saved\\\\valembs_triplet.pkl')\n",
        "\n",
        "X_train = np.array(X_train)\n",
        "y_train =np.array(y_train).ravel()\n",
        "X_val = np.array(X_val)\n",
        "y_val = np.array(y_val).ravel()\n"
      ]
    },
    {
      "cell_type": "code",
      "execution_count": null,
      "metadata": {},
      "outputs": [],
      "source": [
        "from sklearn import svm\n",
        "clf = svm.SVC(C=0.5,probability=True)"
      ]
    },
    {
      "cell_type": "code",
      "execution_count": null,
      "metadata": {},
      "outputs": [],
      "source": [
        "from sklearn.neural_network import MLPClassifier\n",
        "clf = MLPClassifier(alpha=0.0)"
      ]
    },
    {
      "cell_type": "code",
      "execution_count": null,
      "metadata": {},
      "outputs": [],
      "source": [
        "clf.fit(X_train, y_train)"
      ]
    },
    {
      "cell_type": "code",
      "execution_count": null,
      "metadata": {},
      "outputs": [],
      "source": [
        "prediction_train = clf.predict(X_train)\n",
        "prediction_val = clf.predict(X_val)"
      ]
    },
    {
      "cell_type": "code",
      "execution_count": null,
      "metadata": {},
      "outputs": [],
      "source": [
        "acc_train = np.sum(prediction_train == y_train)/len(y_train)\n",
        "acc_val = np.sum(prediction_val == y_val)/len(y_val)\n",
        "print(acc_train,acc_val)"
      ]
    },
    {
      "cell_type": "code",
      "execution_count": null,
      "metadata": {},
      "outputs": [],
      "source": [
        "out = clf.predict_proba(X_val)[:,1]"
      ]
    },
    {
      "cell_type": "code",
      "execution_count": null,
      "metadata": {},
      "outputs": [],
      "source": [
        "threshs= np.linspace(0,1,11)\n",
        "accs = []\n",
        "sensitivity = []\n",
        "specificity = []\n",
        "f1 = []\n",
        "precision = []\n",
        "label = y_val\n",
        "for thresh in threshs:\n",
        "    conf = np.zeros((2,2))\n",
        "    conf[1,1] = np.matmul(label.T,(out>=thresh)*1)\n",
        "    conf[1,0] = np.matmul(label.T,(out<thresh)*1)\n",
        "    conf[0,1] = np.matmul((1-label).T,(out>=thresh)*1)\n",
        "    conf[0,0] = np.matmul((1-label).T,(out<thresh)*1)\n",
        "    pos = np.sum(label)\n",
        "    neg = np.sum(1-label)\n",
        "\n",
        "    accs.append(((conf[1,1]+conf[0,0])/(pos+neg)))\n",
        "    sensitivity.append((conf[0,0]/neg)) \n",
        "    specificity.append((conf[1,1]/pos))\n",
        "    f1.append(((2*conf[0,0])/(2*conf[0,0]+conf[0,1]+conf[1,0])))\n",
        "    precision.append((conf[0,0]/(conf[0,0]+conf[1,0])).item())\n",
        "    "
      ]
    },
    {
      "cell_type": "code",
      "execution_count": null,
      "metadata": {},
      "outputs": [],
      "source": [
        "accs = np.array(accs)\n",
        "sensitivity = np.array(sensitivity)\n",
        "specificity = np.array(specificity)\n",
        "precision = np.array(precision)\n",
        "f1 = np.array(f1)\n",
        "\n",
        "m1 = np.argmax(accs)\n",
        "m2 = np.argmax(f1)"
      ]
    },
    {
      "cell_type": "code",
      "execution_count": null,
      "metadata": {},
      "outputs": [],
      "source": [
        "fig,ax = plt.subplots(1,3,figsize=(15,4))\n",
        "ax[0].plot(threshs,accs)\n",
        "ax[0].set_xlabel('threshold')\n",
        "ax[0].set_ylabel('accuracy')\n",
        "ax[1].plot(threshs,f1)\n",
        "ax[1].set_xlabel('threshold')\n",
        "ax[1].set_ylabel('f1-score')\n",
        "ax[2].plot(1-specificity,sensitivity,'o',label='_nolabel_')\n",
        "ax[2].set_xlabel('1-specificity')\n",
        "ax[2].set_ylabel('sensitivity')\n",
        "ax[2].plot(1-specificity[m1],sensitivity[m1],'ro',label='acc thresh:{}'.format(threshs[m1]))\n",
        "ax[2].plot(1-specificity[m2],sensitivity[m2],'go',label='f1 thresh:{}'.format(threshs[m2]))\n",
        "ax[2].legend()"
      ]
    },
    {
      "cell_type": "code",
      "execution_count": null,
      "metadata": {},
      "outputs": [],
      "source": [
        "config['MODEL']['model'] = 'mobilenet_triple_emb'\n",
        "name = \"saved\\\\\"+config['MODEL']['model']+\"_\"\n",
        "torch.save(threshs,name+'threshs.pkl')\n",
        "torch.save(accs,name+'accs.pkl')\n",
        "torch.save(f1,name+'f1.pkl')\n",
        "torch.save(specificity,name+'specificity.pkl')\n",
        "torch.save(sensitivity,name+'sensitivity.pkl')\n",
        "torch.save(precision,name+'precision.pkl')"
      ]
    },
    {
      "cell_type": "code",
      "execution_count": null,
      "metadata": {},
      "outputs": [],
      "source": []
    }
  ],
  "metadata": {
    "accelerator": "GPU",
    "colab": {
      "collapsed_sections": [
        "FxpLSmPKplld",
        "-GjUqF_cplle"
      ],
      "provenance": []
    },
    "gpuClass": "standard",
    "kernelspec": {
      "display_name": "MLenv",
      "language": "python",
      "name": "python3"
    },
    "language_info": {
      "codemirror_mode": {
        "name": "ipython",
        "version": 3
      },
      "file_extension": ".py",
      "mimetype": "text/x-python",
      "name": "python",
      "nbconvert_exporter": "python",
      "pygments_lexer": "ipython3",
      "version": "3.10.4"
    },
    "vscode": {
      "interpreter": {
        "hash": "665aa01f3af077fd5771c858d8fc10596be116db06e0fbc8e2a6e92782d15ae1"
      }
    }
  },
  "nbformat": 4,
  "nbformat_minor": 0
}
