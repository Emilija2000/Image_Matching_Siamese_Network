{
  "cells": [
    {
      "cell_type": "markdown",
      "metadata": {
        "id": "Q93QhrZMpllR"
      },
      "source": [
        "# Image matching with Siamese networks\n",
        "## Dependencies"
      ]
    },
    {
      "cell_type": "code",
      "execution_count": 1,
      "metadata": {
        "id": "kfLmrjV1pllV"
      },
      "outputs": [],
      "source": [
        "import matplotlib.pyplot as plt\n",
        "import numpy as np\n",
        "\n",
        "import torch\n",
        "from torch import optim\n",
        "from torch.optim.lr_scheduler import StepLR\n",
        "from torchvision import transforms\n",
        "from torch.utils.data import DataLoader\n",
        "import utilities as utils \n",
        "from siameseDataloader import readDataFolder, dataSplits, MyImagenetDataset, EmbeddingDataset\n",
        "\n",
        "import torch.nn as nn\n",
        "\n",
        "from classifierModels import SimpleNetwork,Resnet20, EfficientNet,MobileNet,FCnet"
      ]
    },
    {
      "cell_type": "code",
      "execution_count": 2,
      "metadata": {
        "id": "ioGAoVNzpllW"
      },
      "outputs": [],
      "source": [
        "import os\n",
        "config = utils.load_config()\n",
        "datadir = os.path.join('data','tiny-imagenet-200-copy','train')#config['DATASET']['root']\n",
        "numclasses = config['DATASET']['numclasses']\n",
        "im_size = config['DATASET']['im_size']\n",
        "emb_size = config['MODEL']['embsize']\n",
        "\n",
        "seed = config['seed']\n",
        "np.random.seed(seed)"
      ]
    },
    {
      "attachments": {},
      "cell_type": "markdown",
      "metadata": {},
      "source": [
        "## Dataset for embs"
      ]
    },
    {
      "cell_type": "code",
      "execution_count": 3,
      "metadata": {},
      "outputs": [],
      "source": [
        "if config['MODEL']['model']=='embeddings':\n",
        "    train_dataset = EmbeddingDataset('trainembs.pkl')\n",
        "    val_dataset = EmbeddingDataset('valembs.pkl')\n",
        "    test_dataset = EmbeddingDataset('valembs.pkl')"
      ]
    },
    {
      "cell_type": "markdown",
      "metadata": {
        "id": "OI5tIw04pllX"
      },
      "source": [
        "## Dataset"
      ]
    },
    {
      "cell_type": "code",
      "execution_count": null,
      "metadata": {
        "colab": {
          "base_uri": "https://localhost:8080/"
        },
        "id": "1pS1Wv6upllX",
        "outputId": "40ca24b7-da0e-4c02-ecff-6d01a6723e9d"
      },
      "outputs": [],
      "source": [
        "dataset = readDataFolder(datadir,numclasses)\n",
        "print(dataset)\n"
      ]
    },
    {
      "cell_type": "code",
      "execution_count": null,
      "metadata": {
        "id": "OmlUZ4bAvSyA"
      },
      "outputs": [],
      "source": [
        "train_split,val_split,test_split = dataSplits(dataset,0.8,0.2,0)"
      ]
    },
    {
      "cell_type": "code",
      "execution_count": null,
      "metadata": {
        "id": "Cy0bMF7rpllY"
      },
      "outputs": [],
      "source": [
        "train_transforms = transforms.Compose([\n",
        "    transforms.Resize(im_size+4),\n",
        "    transforms.CenterCrop(im_size),\n",
        "    transforms.ToTensor(),\n",
        "    #transforms.Normalize([0.4914, 0.4822, 0.4465], [0.2023, 0.1994, 0.2010])\n",
        "    transforms.Normalize([0.507, 0.4865, 0.4409], [0.2673, 0.2564, 0.2761])\n",
        "])\n",
        "test_transforms = transforms.Compose([\n",
        "    transforms.Resize(im_size),\n",
        "    transforms.CenterCrop(im_size),\n",
        "    transforms.ToTensor(),\n",
        "    #transforms.Normalize([0.4914, 0.4822, 0.4465], [0.2023, 0.1994, 0.2010])\n",
        "    transforms.Normalize([0.507, 0.4865, 0.4409], [0.2673, 0.2564, 0.2761])\n",
        "])\n",
        "\n",
        "train_dataset = MyImagenetDataset(train_split,train_transforms)\n",
        "val_dataset = MyImagenetDataset(val_split,test_transforms)\n",
        "test_dataset = MyImagenetDataset(test_split,test_transforms)\n",
        "\n",
        "datasets = {'train':train_dataset,'val':val_dataset,'test':test_dataset}"
      ]
    },
    {
      "attachments": {},
      "cell_type": "markdown",
      "metadata": {},
      "source": [
        "## Dataloader"
      ]
    },
    {
      "cell_type": "code",
      "execution_count": 5,
      "metadata": {
        "id": "MTWN4JlQpllY"
      },
      "outputs": [],
      "source": [
        "#dataloaders\n",
        "dataloaders = {\n",
        "    'train': DataLoader(train_dataset,shuffle=True,\n",
        "                        num_workers=config['TRAIN']['numworkers'],\n",
        "                        batch_size=config['TRAIN']['batchsize']),\n",
        "    'val': DataLoader(val_dataset,shuffle=False,\n",
        "                        num_workers=config['TRAIN']['numworkers'],\n",
        "                        batch_size=config['TRAIN']['batchsize']),\n",
        "    'test': DataLoader(test_dataset,shuffle=False,\n",
        "                        num_workers=config['TRAIN']['numworkers'],\n",
        "                        batch_size=config['TRAIN']['batchsize'])\n",
        "}"
      ]
    },
    {
      "cell_type": "markdown",
      "metadata": {
        "id": "JRwIBybxpllZ"
      },
      "source": [
        "## Model"
      ]
    },
    {
      "cell_type": "code",
      "execution_count": 22,
      "metadata": {
        "colab": {
          "base_uri": "https://localhost:8080/"
        },
        "id": "kcLN38fZpllZ",
        "outputId": "8c1bb3ef-8af5-45ee-e365-86a80319bdd8"
      },
      "outputs": [],
      "source": [
        "if config['MODEL']['model'] == 'simple':\n",
        "    model = SimpleNetwork(numclasses=numclasses,pretrained=config['MODEL']['pretrained'])\n",
        "elif config['MODEL']['model'] == 'resnet':\n",
        "    model = Resnet20(numclasses=numclasses)\n",
        "elif config['MODEL']['model'] == 'mobilenet':\n",
        "    model = MobileNet(numclasses=numclasses)\n",
        "elif config['MODEL']['model'] == 'efficient':\n",
        "    model = EfficientNet(numclasses=numclasses)\n",
        "elif config['MODEL']['model']=='embeddings':\n",
        "    model = FCnet(emb_size*2,1)\n",
        "else:\n",
        "    model = SimpleNetwork()"
      ]
    },
    {
      "cell_type": "code",
      "execution_count": 23,
      "metadata": {},
      "outputs": [
        {
          "name": "stdout",
          "output_type": "stream",
          "text": [
            "6849\n"
          ]
        }
      ],
      "source": [
        "pytorch_total_params = sum(p.numel() for p in model.parameters() if p.requires_grad)\n",
        "print(pytorch_total_params)"
      ]
    },
    {
      "cell_type": "code",
      "execution_count": null,
      "metadata": {
        "colab": {
          "base_uri": "https://localhost:8080/"
        },
        "id": "nlyIXdtJplla",
        "outputId": "3c41d846-7bda-497a-f9cf-fffaad2a5202"
      },
      "outputs": [],
      "source": [
        "data,labels = train_dataset[100]\n",
        "out = model(data.reshape(1,3,im_size,im_size))\n",
        "print(out)\n",
        "\n",
        "top_p , top_class = torch.topk(out,1,dim=1)\n",
        "equals = top_class.view(size=labels.shape) == labels\n",
        "print(labels,top_class,equals)\n"
      ]
    },
    {
      "cell_type": "markdown",
      "metadata": {
        "id": "NAgPodwZpllb"
      },
      "source": [
        "## Train"
      ]
    },
    {
      "cell_type": "code",
      "execution_count": 24,
      "metadata": {},
      "outputs": [],
      "source": [
        "#criterion = nn.CrossEntropyLoss()\n",
        "criterion = nn.BCELoss()\n",
        "\n",
        "config['TRAIN']['lr'] =0.0005\n",
        "optimizer = optim.Adam(model.parameters(),lr = config['TRAIN']['lr'],weight_decay=0)\n",
        "scheduler = StepLR(optimizer, step_size=5, gamma=0.1)"
      ]
    },
    {
      "cell_type": "code",
      "execution_count": 25,
      "metadata": {
        "id": "caaBjVTzpllb"
      },
      "outputs": [],
      "source": [
        "device = config['TRAIN']['device']\n",
        "model = model.to(device)"
      ]
    },
    {
      "cell_type": "code",
      "execution_count": 26,
      "metadata": {
        "id": "jPpgvdHTpllc"
      },
      "outputs": [],
      "source": [
        "loss_history ={'train':[],'val':[]}\n",
        "acc_history ={'train':[],'val':[]}"
      ]
    },
    {
      "cell_type": "code",
      "execution_count": 27,
      "metadata": {
        "colab": {
          "base_uri": "https://localhost:8080/"
        },
        "id": "KMYzWIedpllc",
        "outputId": "3b82562b-596a-4f37-f113-3df4505962e2"
      },
      "outputs": [
        {
          "name": "stdout",
          "output_type": "stream",
          "text": [
            "Epoch: 0\t train loss:0.0083228,\t val loss:0.0083172,\t train acc:0.7591,\t val acc:0.7504\n",
            "Epoch: 1\t train loss:0.0060072,\t val loss:0.0080767,\t train acc:0.82835,\t val acc:0.759\n",
            "Epoch: 2\t train loss:0.0057448,\t val loss:0.0081343,\t train acc:0.8379,\t val acc:0.7618\n",
            "Epoch: 3\t train loss:0.005615,\t val loss:0.0080133,\t train acc:0.842,\t val acc:0.7644\n",
            "Epoch: 4\t train loss:0.0055911,\t val loss:0.0080294,\t train acc:0.8419,\t val acc:0.7648\n",
            "Epoch: 5\t train loss:0.0055773,\t val loss:0.0080434,\t train acc:0.8421,\t val acc:0.7648\n",
            "Epoch: 6\t train loss:0.0055695,\t val loss:0.0080475,\t train acc:0.84225,\t val acc:0.7648\n"
          ]
        },
        {
          "ename": "KeyboardInterrupt",
          "evalue": "",
          "output_type": "error",
          "traceback": [
            "\u001b[1;31m---------------------------------------------------------------------------\u001b[0m",
            "\u001b[1;31mKeyboardInterrupt\u001b[0m                         Traceback (most recent call last)",
            "\u001b[1;32mc:\\Users\\Emilija\\Desktop\\cambridge\\lecture material\\CV\\Image_Matching_Siamese_Network\\classification.ipynb Cell 20\u001b[0m in \u001b[0;36m<cell line: 1>\u001b[1;34m()\u001b[0m\n\u001b[0;32m      <a href='vscode-notebook-cell:/c%3A/Users/Emilija/Desktop/cambridge/lecture%20material/CV/Image_Matching_Siamese_Network/classification.ipynb#X22sZmlsZQ%3D%3D?line=3'>4</a>\u001b[0m count\u001b[39m=\u001b[39m\u001b[39m0\u001b[39m\n\u001b[0;32m      <a href='vscode-notebook-cell:/c%3A/Users/Emilija/Desktop/cambridge/lecture%20material/CV/Image_Matching_Siamese_Network/classification.ipynb#X22sZmlsZQ%3D%3D?line=4'>5</a>\u001b[0m correct\u001b[39m=\u001b[39m\u001b[39m0\u001b[39m\n\u001b[1;32m----> <a href='vscode-notebook-cell:/c%3A/Users/Emilija/Desktop/cambridge/lecture%20material/CV/Image_Matching_Siamese_Network/classification.ipynb#X22sZmlsZQ%3D%3D?line=6'>7</a>\u001b[0m \u001b[39mfor\u001b[39;00m i,(img,label) \u001b[39min\u001b[39;00m \u001b[39menumerate\u001b[39;49m(dataloaders[mode]):\n\u001b[0;32m      <a href='vscode-notebook-cell:/c%3A/Users/Emilija/Desktop/cambridge/lecture%20material/CV/Image_Matching_Siamese_Network/classification.ipynb#X22sZmlsZQ%3D%3D?line=7'>8</a>\u001b[0m     img \u001b[39m=\u001b[39m img\u001b[39m.\u001b[39mto(device)\n\u001b[0;32m      <a href='vscode-notebook-cell:/c%3A/Users/Emilija/Desktop/cambridge/lecture%20material/CV/Image_Matching_Siamese_Network/classification.ipynb#X22sZmlsZQ%3D%3D?line=8'>9</a>\u001b[0m     label \u001b[39m=\u001b[39m label\u001b[39m.\u001b[39mto(device)\n",
            "File \u001b[1;32mc:\\Users\\Emilija\\.conda\\envs\\MLenv\\lib\\site-packages\\torch\\utils\\data\\dataloader.py:368\u001b[0m, in \u001b[0;36mDataLoader.__iter__\u001b[1;34m(self)\u001b[0m\n\u001b[0;32m    366\u001b[0m     \u001b[39mreturn\u001b[39;00m \u001b[39mself\u001b[39m\u001b[39m.\u001b[39m_iterator\n\u001b[0;32m    367\u001b[0m \u001b[39melse\u001b[39;00m:\n\u001b[1;32m--> 368\u001b[0m     \u001b[39mreturn\u001b[39;00m \u001b[39mself\u001b[39;49m\u001b[39m.\u001b[39;49m_get_iterator()\n",
            "File \u001b[1;32mc:\\Users\\Emilija\\.conda\\envs\\MLenv\\lib\\site-packages\\torch\\utils\\data\\dataloader.py:314\u001b[0m, in \u001b[0;36mDataLoader._get_iterator\u001b[1;34m(self)\u001b[0m\n\u001b[0;32m    312\u001b[0m \u001b[39melse\u001b[39;00m:\n\u001b[0;32m    313\u001b[0m     \u001b[39mself\u001b[39m\u001b[39m.\u001b[39mcheck_worker_number_rationality()\n\u001b[1;32m--> 314\u001b[0m     \u001b[39mreturn\u001b[39;00m _MultiProcessingDataLoaderIter(\u001b[39mself\u001b[39;49m)\n",
            "File \u001b[1;32mc:\\Users\\Emilija\\.conda\\envs\\MLenv\\lib\\site-packages\\torch\\utils\\data\\dataloader.py:927\u001b[0m, in \u001b[0;36m_MultiProcessingDataLoaderIter.__init__\u001b[1;34m(self, loader)\u001b[0m\n\u001b[0;32m    920\u001b[0m w\u001b[39m.\u001b[39mdaemon \u001b[39m=\u001b[39m \u001b[39mTrue\u001b[39;00m\n\u001b[0;32m    921\u001b[0m \u001b[39m# NB: Process.start() actually take some time as it needs to\u001b[39;00m\n\u001b[0;32m    922\u001b[0m \u001b[39m#     start a process and pass the arguments over via a pipe.\u001b[39;00m\n\u001b[0;32m    923\u001b[0m \u001b[39m#     Therefore, we only add a worker to self._workers list after\u001b[39;00m\n\u001b[0;32m    924\u001b[0m \u001b[39m#     it started, so that we do not call .join() if program dies\u001b[39;00m\n\u001b[0;32m    925\u001b[0m \u001b[39m#     before it starts, and __del__ tries to join but will get:\u001b[39;00m\n\u001b[0;32m    926\u001b[0m \u001b[39m#     AssertionError: can only join a started process.\u001b[39;00m\n\u001b[1;32m--> 927\u001b[0m w\u001b[39m.\u001b[39;49mstart()\n\u001b[0;32m    928\u001b[0m \u001b[39mself\u001b[39m\u001b[39m.\u001b[39m_index_queues\u001b[39m.\u001b[39mappend(index_queue)\n\u001b[0;32m    929\u001b[0m \u001b[39mself\u001b[39m\u001b[39m.\u001b[39m_workers\u001b[39m.\u001b[39mappend(w)\n",
            "File \u001b[1;32mc:\\Users\\Emilija\\.conda\\envs\\MLenv\\lib\\multiprocessing\\process.py:121\u001b[0m, in \u001b[0;36mBaseProcess.start\u001b[1;34m(self)\u001b[0m\n\u001b[0;32m    118\u001b[0m \u001b[39massert\u001b[39;00m \u001b[39mnot\u001b[39;00m _current_process\u001b[39m.\u001b[39m_config\u001b[39m.\u001b[39mget(\u001b[39m'\u001b[39m\u001b[39mdaemon\u001b[39m\u001b[39m'\u001b[39m), \\\n\u001b[0;32m    119\u001b[0m        \u001b[39m'\u001b[39m\u001b[39mdaemonic processes are not allowed to have children\u001b[39m\u001b[39m'\u001b[39m\n\u001b[0;32m    120\u001b[0m _cleanup()\n\u001b[1;32m--> 121\u001b[0m \u001b[39mself\u001b[39m\u001b[39m.\u001b[39m_popen \u001b[39m=\u001b[39m \u001b[39mself\u001b[39;49m\u001b[39m.\u001b[39;49m_Popen(\u001b[39mself\u001b[39;49m)\n\u001b[0;32m    122\u001b[0m \u001b[39mself\u001b[39m\u001b[39m.\u001b[39m_sentinel \u001b[39m=\u001b[39m \u001b[39mself\u001b[39m\u001b[39m.\u001b[39m_popen\u001b[39m.\u001b[39msentinel\n\u001b[0;32m    123\u001b[0m \u001b[39m# Avoid a refcycle if the target function holds an indirect\u001b[39;00m\n\u001b[0;32m    124\u001b[0m \u001b[39m# reference to the process object (see bpo-30775)\u001b[39;00m\n",
            "File \u001b[1;32mc:\\Users\\Emilija\\.conda\\envs\\MLenv\\lib\\multiprocessing\\context.py:224\u001b[0m, in \u001b[0;36mProcess._Popen\u001b[1;34m(process_obj)\u001b[0m\n\u001b[0;32m    222\u001b[0m \u001b[39m@staticmethod\u001b[39m\n\u001b[0;32m    223\u001b[0m \u001b[39mdef\u001b[39;00m \u001b[39m_Popen\u001b[39m(process_obj):\n\u001b[1;32m--> 224\u001b[0m     \u001b[39mreturn\u001b[39;00m _default_context\u001b[39m.\u001b[39;49mget_context()\u001b[39m.\u001b[39;49mProcess\u001b[39m.\u001b[39;49m_Popen(process_obj)\n",
            "File \u001b[1;32mc:\\Users\\Emilija\\.conda\\envs\\MLenv\\lib\\multiprocessing\\context.py:327\u001b[0m, in \u001b[0;36mSpawnProcess._Popen\u001b[1;34m(process_obj)\u001b[0m\n\u001b[0;32m    324\u001b[0m \u001b[39m@staticmethod\u001b[39m\n\u001b[0;32m    325\u001b[0m \u001b[39mdef\u001b[39;00m \u001b[39m_Popen\u001b[39m(process_obj):\n\u001b[0;32m    326\u001b[0m     \u001b[39mfrom\u001b[39;00m \u001b[39m.\u001b[39;00m\u001b[39mpopen_spawn_win32\u001b[39;00m \u001b[39mimport\u001b[39;00m Popen\n\u001b[1;32m--> 327\u001b[0m     \u001b[39mreturn\u001b[39;00m Popen(process_obj)\n",
            "File \u001b[1;32mc:\\Users\\Emilija\\.conda\\envs\\MLenv\\lib\\multiprocessing\\popen_spawn_win32.py:93\u001b[0m, in \u001b[0;36mPopen.__init__\u001b[1;34m(self, process_obj)\u001b[0m\n\u001b[0;32m     91\u001b[0m \u001b[39mtry\u001b[39;00m:\n\u001b[0;32m     92\u001b[0m     reduction\u001b[39m.\u001b[39mdump(prep_data, to_child)\n\u001b[1;32m---> 93\u001b[0m     reduction\u001b[39m.\u001b[39;49mdump(process_obj, to_child)\n\u001b[0;32m     94\u001b[0m \u001b[39mfinally\u001b[39;00m:\n\u001b[0;32m     95\u001b[0m     set_spawning_popen(\u001b[39mNone\u001b[39;00m)\n",
            "File \u001b[1;32mc:\\Users\\Emilija\\.conda\\envs\\MLenv\\lib\\multiprocessing\\reduction.py:60\u001b[0m, in \u001b[0;36mdump\u001b[1;34m(obj, file, protocol)\u001b[0m\n\u001b[0;32m     58\u001b[0m \u001b[39mdef\u001b[39;00m \u001b[39mdump\u001b[39m(obj, file, protocol\u001b[39m=\u001b[39m\u001b[39mNone\u001b[39;00m):\n\u001b[0;32m     59\u001b[0m     \u001b[39m'''Replacement for pickle.dump() using ForkingPickler.'''\u001b[39;00m\n\u001b[1;32m---> 60\u001b[0m     ForkingPickler(file, protocol)\u001b[39m.\u001b[39;49mdump(obj)\n",
            "\u001b[1;31mKeyboardInterrupt\u001b[0m: "
          ]
        }
      ],
      "source": [
        "\n",
        "for epoch in range(config['TRAIN']['numepochs']):\n",
        "    for mode in ['train','val']:\n",
        "        loss_epoch=0\n",
        "        count=0\n",
        "        correct=0\n",
        "        \n",
        "        for i,(img,label) in enumerate(dataloaders[mode]):\n",
        "            img = img.to(device)\n",
        "            label = label.to(device)\n",
        "            \n",
        "            if mode=='train':\n",
        "                model.train()\n",
        "                \n",
        "                optimizer.zero_grad()\n",
        "                out = model(img)\n",
        "                loss = criterion(out,label)\n",
        "                loss.backward()\n",
        "                optimizer.step()\n",
        "                \n",
        "            else:\n",
        "                model.eval()\n",
        "                with torch.no_grad():\n",
        "                    out = model(img)\n",
        "                    loss = criterion(out,label)\n",
        "            \n",
        "            # track total loss\n",
        "            loss_epoch = loss_epoch+loss\n",
        "            count = count + len(label)\n",
        "            \n",
        "            #top_p , top_class = torch.topk(out,1,dim=1)\n",
        "            #equals = label-top_class.flatten()==0\n",
        "            top_class = (out>=0.5)*1.0\n",
        "            equals = label.flatten()-top_class.flatten()==0\n",
        "            \n",
        "            correct += torch.sum(equals)\n",
        "            \n",
        "        scheduler.step()\n",
        "\n",
        "        loss_history[mode].append(loss_epoch.item()/count)\n",
        "        acc_history[mode].append(correct.item()*1.0/count)\n",
        "    \n",
        "    print('Epoch: {}\\t train loss:{:.5},\\t val loss:{:.5},\\t train acc:{:.5},\\t val acc:{:.5}'.format(epoch,loss_history['train'][-1],loss_history['val'][-1],acc_history['train'][-1],acc_history['val'][-1]))\n",
        "    \n",
        "            \n",
        "            "
      ]
    },
    {
      "cell_type": "code",
      "execution_count": null,
      "metadata": {
        "colab": {
          "base_uri": "https://localhost:8080/",
          "height": 282
        },
        "id": "FSjCw2Jppllc",
        "outputId": "fb64d293-3dd8-4b38-e43a-b679a603dfc3"
      },
      "outputs": [],
      "source": [
        "fig,ax = plt.subplots(1,2,figsize=(10,5))\n",
        "ax[0].plot(loss_history['train'],'b-')\n",
        "ax[0].plot(loss_history['val'],'r-')\n",
        "ax[0].set_title('Loss')\n",
        "ax[1].plot(acc_history['train'],'b-')\n",
        "ax[1].plot(acc_history['val'],'r-')\n",
        "ax[1].set_title('Acc')"
      ]
    },
    {
      "attachments": {},
      "cell_type": "markdown",
      "metadata": {},
      "source": [
        "# SVM"
      ]
    },
    {
      "cell_type": "code",
      "execution_count": 38,
      "metadata": {},
      "outputs": [],
      "source": [
        "X_train, y_train = torch.load('trainembs.pkl')\n",
        "X_val,y_val = torch.load('valembs.pkl')\n",
        "\n",
        "X_train = np.array(X_train)\n",
        "y_train =np.array(y_train).ravel()\n",
        "X_val = np.array(X_val)\n",
        "y_val = np.array(y_val).ravel()\n"
      ]
    },
    {
      "cell_type": "code",
      "execution_count": 88,
      "metadata": {},
      "outputs": [],
      "source": [
        "from sklearn import svm\n",
        "clf = svm.SVC(C=0.5,probability=True)"
      ]
    },
    {
      "cell_type": "code",
      "execution_count": 109,
      "metadata": {},
      "outputs": [],
      "source": [
        "from sklearn.neural_network import MLPClassifier\n",
        "clf = MLPClassifier(alpha=0.1)"
      ]
    },
    {
      "cell_type": "code",
      "execution_count": 110,
      "metadata": {},
      "outputs": [
        {
          "data": {
            "text/plain": [
              "MLPClassifier(alpha=0.1)"
            ]
          },
          "execution_count": 110,
          "metadata": {},
          "output_type": "execute_result"
        }
      ],
      "source": [
        "clf.fit(X_train, y_train)"
      ]
    },
    {
      "cell_type": "code",
      "execution_count": 111,
      "metadata": {},
      "outputs": [],
      "source": [
        "prediction_train = clf.predict(X_train)\n",
        "prediction_val = clf.predict(X_val)"
      ]
    },
    {
      "cell_type": "code",
      "execution_count": 112,
      "metadata": {},
      "outputs": [
        {
          "name": "stdout",
          "output_type": "stream",
          "text": [
            "0.8613 0.7802\n"
          ]
        }
      ],
      "source": [
        "acc_train = np.sum(prediction_train == y_train)/len(y_train)\n",
        "acc_val = np.sum(prediction_val == y_val)/len(y_val)\n",
        "print(acc_train,acc_val)"
      ]
    },
    {
      "cell_type": "code",
      "execution_count": 113,
      "metadata": {},
      "outputs": [],
      "source": [
        "out = clf.predict_proba(X_val)[:,1]"
      ]
    },
    {
      "cell_type": "code",
      "execution_count": 114,
      "metadata": {},
      "outputs": [],
      "source": [
        "threshs= np.linspace(0,1,11)\n",
        "accs = []\n",
        "sensitivity = []\n",
        "specificity = []\n",
        "f1 = []\n",
        "label = y_val\n",
        "for thresh in threshs:\n",
        "    conf = np.zeros((2,2))\n",
        "    conf[1,1] = np.matmul(label.T,(out>=thresh)*1)\n",
        "    conf[1,0] = np.matmul(label.T,(out<thresh)*1)\n",
        "    conf[0,1] = np.matmul((1-label).T,(out>=thresh)*1)\n",
        "    conf[0,0] = np.matmul((1-label).T,(out<thresh)*1)\n",
        "    pos = np.sum(label)\n",
        "    neg = np.sum(1-label)\n",
        "\n",
        "    accs.append(((conf[1,1]+conf[0,0])/(pos+neg)))\n",
        "    sensitivity.append((conf[0,0]/neg)) \n",
        "    specificity.append((conf[1,1]/pos))\n",
        "    f1.append(((2*conf[0,0])/(2*conf[0,0]+conf[0,1]+conf[1,0])))\n",
        "    "
      ]
    },
    {
      "cell_type": "code",
      "execution_count": 115,
      "metadata": {},
      "outputs": [],
      "source": [
        "accs = np.array(accs)\n",
        "sensitivity = np.array(sensitivity)\n",
        "specificity = np.array(specificity)\n",
        "f1 = np.array(f1)\n",
        "\n",
        "m1 = np.argmax(accs)\n",
        "m2 = np.argmax(f1)"
      ]
    },
    {
      "cell_type": "code",
      "execution_count": 116,
      "metadata": {},
      "outputs": [
        {
          "data": {
            "text/plain": [
              "<matplotlib.legend.Legend at 0x271bb16f9a0>"
            ]
          },
          "execution_count": 116,
          "metadata": {},
          "output_type": "execute_result"
        },
        {
          "data": {
            "image/png": "[encoded data removed]",
            "text/plain": [
              "<Figure size 1080x288 with 3 Axes>"
            ]
          },
          "metadata": {
            "needs_background": "light"
          },
          "output_type": "display_data"
        }
      ],
      "source": [
        "fig,ax = plt.subplots(1,3,figsize=(15,4))\n",
        "ax[0].plot(threshs,accs)\n",
        "ax[0].set_xlabel('threshold')\n",
        "ax[0].set_ylabel('accuracy')\n",
        "ax[1].plot(threshs,f1)\n",
        "ax[1].set_xlabel('threshold')\n",
        "ax[1].set_ylabel('f1-score')\n",
        "ax[2].plot(1-specificity,sensitivity,'o',label='_nolabel_')\n",
        "ax[2].set_xlabel('1-specificity')\n",
        "ax[2].set_ylabel('sensitivity')\n",
        "ax[2].plot(1-specificity[m1],sensitivity[m1],'ro',label='acc thresh:{}'.format(threshs[m1]))\n",
        "ax[2].plot(1-specificity[m2],sensitivity[m2],'go',label='f1 thresh:{}'.format(threshs[m2]))\n",
        "ax[2].legend()"
      ]
    },
    {
      "cell_type": "code",
      "execution_count": null,
      "metadata": {},
      "outputs": [],
      "source": []
    }
  ],
  "metadata": {
    "accelerator": "GPU",
    "colab": {
      "collapsed_sections": [
        "FxpLSmPKplld",
        "-GjUqF_cplle"
      ],
      "provenance": []
    },
    "gpuClass": "standard",
    "kernelspec": {
      "display_name": "MLenv",
      "language": "python",
      "name": "python3"
    },
    "language_info": {
      "codemirror_mode": {
        "name": "ipython",
        "version": 3
      },
      "file_extension": ".py",
      "mimetype": "text/x-python",
      "name": "python",
      "nbconvert_exporter": "python",
      "pygments_lexer": "ipython3",
      "version": "3.10.4 | packaged by conda-forge | (main, Mar 30 2022, 08:38:02) [MSC v.1916 64 bit (AMD64)]"
    },
    "vscode": {
      "interpreter": {
        "hash": "665aa01f3af077fd5771c858d8fc10596be116db06e0fbc8e2a6e92782d15ae1"
      }
    }
  },
  "nbformat": 4,
  "nbformat_minor": 0
}
