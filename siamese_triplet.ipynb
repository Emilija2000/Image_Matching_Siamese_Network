{
  "cells": [
    {
      "cell_type": "markdown",
      "metadata": {
        "id": "Q93QhrZMpllR"
      },
      "source": [
        "# Image matching with Siamese networks\n",
        "## Dependencies"
      ]
    },
    {
      "cell_type": "code",
      "execution_count": null,
      "metadata": {
        "id": "kfLmrjV1pllV"
      },
      "outputs": [],
      "source": [
        "import matplotlib.pyplot as plt\n",
        "import numpy as np\n",
        "\n",
        "import torch\n",
        "from torch import optim\n",
        "from torch.optim.lr_scheduler import StepLR\n",
        "from torchvision import transforms\n",
        "from torch.utils.data import DataLoader\n",
        "import utilities as utils \n",
        "from siameseDataloader import readDataFolder, dataSplits, TripletDataset\n",
        "from siameseModel import MobileNetTriplet"
      ]
    },
    {
      "cell_type": "code",
      "execution_count": null,
      "metadata": {
        "id": "ioGAoVNzpllW"
      },
      "outputs": [],
      "source": [
        "import os\n",
        "config = utils.load_config()\n",
        "datadir = os.path.join('data','tiny-imagenet-200-copy','train')#config['DATASET']['root']\n",
        "numclasses = config['DATASET']['numclasses']\n",
        "sameprob = config['DATASET']['sameprob']\n",
        "im_size = config['DATASET']['im_size']\n",
        "emb_size=config['MODEL']['embsize']\n",
        "\n",
        "seed = config['seed']\n",
        "np.random.seed(seed)\n",
        "\n",
        "device = config['TRAIN']['device']"
      ]
    },
    {
      "cell_type": "markdown",
      "metadata": {
        "id": "OI5tIw04pllX"
      },
      "source": [
        "## Dataset"
      ]
    },
    {
      "cell_type": "code",
      "execution_count": null,
      "metadata": {
        "colab": {
          "base_uri": "https://localhost:8080/"
        },
        "id": "1pS1Wv6upllX",
        "outputId": "40ca24b7-da0e-4c02-ecff-6d01a6723e9d"
      },
      "outputs": [],
      "source": [
        "dataset = readDataFolder(datadir,numclasses)\n",
        "print(dataset)"
      ]
    },
    {
      "cell_type": "code",
      "execution_count": null,
      "metadata": {
        "id": "OmlUZ4bAvSyA"
      },
      "outputs": [],
      "source": [
        "train_split,val_split,test_split = dataSplits(dataset,0.8,0.2,0)"
      ]
    },
    {
      "cell_type": "code",
      "execution_count": null,
      "metadata": {
        "id": "Cy0bMF7rpllY"
      },
      "outputs": [],
      "source": [
        "train_transforms = transforms.Compose([\n",
        "    transforms.Resize(im_size+4),\n",
        "    transforms.RandomCrop(im_size),\n",
        "    transforms.RandomHorizontalFlip(),\n",
        "    transforms.RandomAffine(0.3),\n",
        "    transforms.ToTensor(),\n",
        "    #transforms.Normalize([0.4914, 0.4822, 0.4465], [0.2023, 0.1994, 0.2010])\n",
        "    transforms.Normalize([0.507, 0.4865, 0.4409], [0.2673, 0.2564, 0.2761])\n",
        "])\n",
        "test_transforms = transforms.Compose([\n",
        "    transforms.Resize(im_size),\n",
        "    transforms.CenterCrop(im_size),\n",
        "    transforms.ToTensor(),\n",
        "    #transforms.Normalize([0.4914, 0.4822, 0.4465], [0.2023, 0.1994, 0.2010])\n",
        "    transforms.Normalize([0.507, 0.4865, 0.4409], [0.2673, 0.2564, 0.2761])\n",
        "])\n",
        "\n",
        "train_dataset = TripletDataset(train_split,train_transforms)\n",
        "val_dataset = TripletDataset(val_split,test_transforms)\n",
        "test_dataset = TripletDataset(test_split,test_transforms)\n",
        "\n",
        "datasets = {'train':train_dataset,'val':val_dataset,'test':test_dataset}"
      ]
    },
    {
      "cell_type": "code",
      "execution_count": null,
      "metadata": {
        "id": "MTWN4JlQpllY"
      },
      "outputs": [],
      "source": [
        "#dataloaders\n",
        "dataloaders = {\n",
        "    'train': DataLoader(train_dataset,shuffle=True,\n",
        "                        num_workers=config['TRAIN']['numworkers'],\n",
        "                        batch_size=config['TRAIN']['batchsize']),\n",
        "    'val': DataLoader(val_dataset,shuffle=False,\n",
        "                        num_workers=config['TRAIN']['numworkers'],\n",
        "                        batch_size=config['TRAIN']['batchsize']),\n",
        "    'test': DataLoader(test_dataset,shuffle=False,\n",
        "                        num_workers=config['TRAIN']['numworkers'],\n",
        "                        batch_size=config['TRAIN']['batchsize'])\n",
        "}"
      ]
    },
    {
      "cell_type": "code",
      "execution_count": null,
      "metadata": {},
      "outputs": [],
      "source": [
        "for i,data in enumerate(dataloaders['train']):\n",
        "    print(data[0].shape)\n",
        "    break"
      ]
    },
    {
      "cell_type": "markdown",
      "metadata": {
        "id": "JRwIBybxpllZ"
      },
      "source": [
        "## Model"
      ]
    },
    {
      "cell_type": "code",
      "execution_count": null,
      "metadata": {
        "colab": {
          "base_uri": "https://localhost:8080/"
        },
        "id": "kcLN38fZpllZ",
        "outputId": "8c1bb3ef-8af5-45ee-e365-86a80319bdd8"
      },
      "outputs": [],
      "source": [
        "model = MobileNetTriplet(config['MODEL']['distance'],embsize=emb_size,pretrained=config['MODEL']['pretrained'])"
      ]
    },
    {
      "cell_type": "code",
      "execution_count": null,
      "metadata": {},
      "outputs": [],
      "source": [
        "for param in model.parameters():\n",
        "    param.requires_grad = True"
      ]
    },
    {
      "cell_type": "code",
      "execution_count": null,
      "metadata": {},
      "outputs": [],
      "source": [
        "pytorch_total_params = sum(p.numel() for p in model.parameters() if p.requires_grad)\n",
        "print(pytorch_total_params)"
      ]
    },
    {
      "cell_type": "code",
      "execution_count": null,
      "metadata": {
        "colab": {
          "base_uri": "https://localhost:8080/"
        },
        "id": "nlyIXdtJplla",
        "outputId": "3c41d846-7bda-497a-f9cf-fffaad2a5202"
      },
      "outputs": [],
      "source": [
        "data = train_dataset[400]\n",
        "out = model(data[0].reshape(1,3,im_size,im_size),data[1].reshape(1,3,im_size,im_size),data[2].reshape(1,3,im_size,im_size))\n",
        "print(out)\n",
        "#print(criterion(out,data[2]))\n"
      ]
    },
    {
      "cell_type": "markdown",
      "metadata": {
        "id": "NAgPodwZpllb"
      },
      "source": [
        "## Train"
      ]
    },
    {
      "cell_type": "code",
      "execution_count": null,
      "metadata": {},
      "outputs": [],
      "source": [
        "#model.to('cpu')\n",
        "#model.load_state_dict(model1)"
      ]
    },
    {
      "cell_type": "code",
      "execution_count": null,
      "metadata": {},
      "outputs": [],
      "source": [
        "criterion = torch.nn.TripletMarginWithDistanceLoss(margin = config['TRAIN']['lossmargin'], distance_function=model.distance)\n",
        "#config['TRAIN']['lr'] =0.0005\n",
        "optimizer = optim.Adam(model.parameters(),lr = config['TRAIN']['lr'],weight_decay=0.03)\n",
        "#scheduler = StepLR(optimizer, step_size=10, gamma=0.1)"
      ]
    },
    {
      "cell_type": "code",
      "execution_count": null,
      "metadata": {
        "id": "caaBjVTzpllb"
      },
      "outputs": [],
      "source": [
        "\n",
        "model = model.to(device)"
      ]
    },
    {
      "cell_type": "code",
      "execution_count": null,
      "metadata": {
        "id": "jPpgvdHTpllc"
      },
      "outputs": [],
      "source": [
        "loss_history ={'train':[],'val':[]}\n",
        "minloss=10000\n"
      ]
    },
    {
      "cell_type": "code",
      "execution_count": null,
      "metadata": {},
      "outputs": [],
      "source": [
        "best_model = model.state_dict().copy() "
      ]
    },
    {
      "cell_type": "code",
      "execution_count": null,
      "metadata": {
        "colab": {
          "base_uri": "https://localhost:8080/"
        },
        "id": "KMYzWIedpllc",
        "outputId": "3b82562b-596a-4f37-f113-3df4505962e2"
      },
      "outputs": [],
      "source": [
        "\n",
        "for epoch in range(config['TRAIN']['numepochs']):\n",
        "    for mode in ['train','val']:\n",
        "        loss_epoch=0\n",
        "        count=0\n",
        "        for i,(img1,img2,img3) in enumerate(dataloaders[mode]):\n",
        "            img1 = img1.to(device)\n",
        "            img2 = img2.to(device)\n",
        "            img3 = img3.to(device)\n",
        "            \n",
        "            if mode=='train':\n",
        "                model.train()\n",
        "                \n",
        "                optimizer.zero_grad()\n",
        "                out1,out2,out3 = model(img1,img2,img3)\n",
        "                loss = criterion(out1,out2,out3)\n",
        "                loss.backward()\n",
        "                optimizer.step()\n",
        "                \n",
        "            else:\n",
        "                model.eval()\n",
        "                with torch.no_grad():\n",
        "                    out1,out2,out3 = model(img1,img2,img3)\n",
        "                loss = criterion(out1,out2,out3)\n",
        "                print('val loss')\n",
        "                print(loss)\n",
        "            \n",
        "            # track total loss\n",
        "            loss_epoch = loss_epoch+loss\n",
        "            count = count + img1.shape[0]\n",
        "            \n",
        "        #scheduler.step()\n",
        "        \n",
        "        loss_history[mode].append(loss_epoch.item()/count)\n",
        "    print('Epoch: {},\\t train loss:{:.5},\\t val loss:{:.5}'.format(epoch,loss_history['train'][-1],loss_history['val'][-1]))\n",
        "\n",
        "    if (loss_history['val'][-1] < minloss):\n",
        "        minloss = loss_history['val'][-1]\n",
        "        best_model = model.state_dict().copy()\n",
        "            \n",
        "            "
      ]
    },
    {
      "cell_type": "code",
      "execution_count": null,
      "metadata": {},
      "outputs": [],
      "source": [
        "model.load_state_dict(best_model)"
      ]
    },
    {
      "cell_type": "code",
      "execution_count": null,
      "metadata": {
        "colab": {
          "base_uri": "https://localhost:8080/",
          "height": 282
        },
        "id": "FSjCw2Jppllc",
        "outputId": "fb64d293-3dd8-4b38-e43a-b679a603dfc3"
      },
      "outputs": [],
      "source": [
        "plt.figure()\n",
        "plt.plot(loss_history['train'],'b-')\n",
        "plt.plot(loss_history['val'],'r-')"
      ]
    },
    {
      "attachments": {},
      "cell_type": "markdown",
      "metadata": {},
      "source": [
        "## Train acc"
      ]
    },
    {
      "cell_type": "code",
      "execution_count": null,
      "metadata": {},
      "outputs": [],
      "source": [
        "model.eval()\n",
        "model=model.to(device)\n",
        "#threshs = np.linspace(start=0,stop=config['TRAIN']['lossmargin']*1.2,num=10)\n",
        "threshs = [config['TRAIN']['lossmargin']/2]\n",
        "#threshs=[0.5]\n",
        "accs = []\n",
        "sensitivity = []\n",
        "specificity = []\n",
        "f1=[]\n",
        "\n",
        "\n",
        "for thresh in threshs:\n",
        "    pos=0\n",
        "    neg=0\n",
        "    conf = np.zeros((2,2))\n",
        "    for i,(img1,img2,label) in enumerate(dataloaders['train']):\n",
        "        img1=img1.to(device)\n",
        "        img2=img2.to(device)\n",
        "        label=label.to(device)\n",
        "        with torch.no_grad():\n",
        "            out = model(img1,img2)\n",
        "        \n",
        "        conf[1,1] += torch.matmul(label.T*1.,(out>=thresh)*1.)\n",
        "        conf[1,0] += torch.matmul(label.T*1.,(out<thresh)*1.)\n",
        "        conf[0,1] += torch.matmul((1-label).T*1.,(out>=thresh)*1.)\n",
        "        conf[0,0] += torch.matmul((1-label).T*1.,(out<thresh)*1.)\n",
        "        pos = pos + torch.sum(label)\n",
        "        neg = neg + torch.sum(1-label)\n",
        "\n",
        "    accs.append(((conf[1,1]+conf[0,0])/(pos+neg)).item())\n",
        "    sensitivity.append((conf[0,0]/neg).item()) #changed 0 and 1 labels (0 is true in the loss fcn)\n",
        "    specificity.append((conf[1,1]/pos).item())\n",
        "    f1.append(((2*conf[0,0])/(2*conf[0,0]+conf[0,1]+conf[1,0])).item())"
      ]
    },
    {
      "cell_type": "code",
      "execution_count": null,
      "metadata": {},
      "outputs": [],
      "source": [
        "print(accs)\n",
        "print(f1)"
      ]
    },
    {
      "cell_type": "markdown",
      "metadata": {
        "id": "cNFBMDQSgg8T"
      },
      "source": [
        "## Val"
      ]
    },
    {
      "cell_type": "code",
      "execution_count": null,
      "metadata": {
        "colab": {
          "base_uri": "https://localhost:8080/"
        },
        "id": "pVa241BzgfUL",
        "outputId": "5b0dae45-eb97-4fc6-9663-d2348d3f1db7"
      },
      "outputs": [],
      "source": [
        "loss_epoch = 0\n",
        "count=0\n",
        "for i,(img1,img2,label) in enumerate(dataloaders['val']):\n",
        "    img1 = img1.to(device)\n",
        "    img2=img2.to(device)\n",
        "    label = label.to(device)\n",
        "    with torch.no_grad():\n",
        "        out = model(img1,img2)\n",
        "        loss = criterion(out,label)\n",
        "\n",
        "    # track total loss\n",
        "    loss_epoch = loss_epoch+loss\n",
        "    count = count + len(label)\n",
        "print('Validation loss: {}'.format(loss_epoch.item()/count))"
      ]
    },
    {
      "cell_type": "code",
      "execution_count": null,
      "metadata": {
        "colab": {
          "base_uri": "https://localhost:8080/",
          "height": 493
        },
        "id": "-W8PWPoJgsYq",
        "outputId": "a414ce06-b114-4415-f2e4-622771010ff2"
      },
      "outputs": [],
      "source": [
        "# Visualise\n",
        "numex=5 #number of examples\n",
        "fig,ax = plt.subplots(2,numex,figsize=(15,5))\n",
        "for i in range(numex):\n",
        "    example = val_dataset[i]\n",
        "    utils.imshow(example[0],ax[0][i])\n",
        "    utils.imshow(example[1],ax[1][i])\n",
        "    distance = model(example[0].reshape(1,3,im_size,im_size).to(device),example[1].reshape(1,3,im_size,im_size).to(device))\n",
        "    ax[0][i].set_title('label:{},distance:{:.2}'.format(example[2].item(),distance.item()))\n",
        "plt.show()"
      ]
    },
    {
      "cell_type": "code",
      "execution_count": null,
      "metadata": {
        "colab": {
          "base_uri": "https://localhost:8080/"
        },
        "id": "s4Kw9s08gvs0",
        "outputId": "a1c15d2f-74c1-455f-b5e1-adadaa5926db"
      },
      "outputs": [],
      "source": [
        "#threshs = np.linspace(start=0,stop=config['TRAIN']['lossmargin']*1.2,num=11)\n",
        "threshs = [config['TRAIN']['lossmargin']/2]\n",
        "#threshs = [0.5]\n",
        "#threshs = np.linspace(start=0,stop=1,num=11)\n",
        "accs=[]\n",
        "sensitivity = []\n",
        "specificity = []\n",
        "f1=[]\n",
        "\n",
        "num=0\n",
        "for thresh in threshs:\n",
        "    pos=0\n",
        "    neg=0\n",
        "    conf = np.zeros((2,2))\n",
        "    for i,(img1,img2,label) in enumerate(dataloaders['val']):\n",
        "        img1=img1.to(device)\n",
        "        img2=img2.to(device)\n",
        "        label=label.to(device)\n",
        "        \n",
        "        with torch.no_grad():\n",
        "            out = model(img1,img2)\n",
        "        \n",
        "        conf[1,1] += torch.matmul(label.T*1.,(out>=thresh)*1.)\n",
        "        conf[1,0] += torch.matmul(label.T*1.,(out<thresh)*1.)\n",
        "        conf[0,1] += torch.matmul((1-label).T*1.,(out>=thresh)*1.)\n",
        "        conf[0,0] += torch.matmul((1-label).T*1.,(out<thresh)*1.)\n",
        "        pos = pos + torch.sum(label)\n",
        "        neg = neg + torch.sum(1-label)\n",
        "\n",
        "    accs.append(((conf[1,1]+conf[0,0])/(pos+neg)).item())\n",
        "    sensitivity.append((conf[0,0]/neg).item()) #changed 0 and 1 labels (0 is true in the loss fcn)\n",
        "    specificity.append((conf[1,1]/pos).item())\n",
        "    f1.append(((2*conf[0,0])/(2*conf[0,0]+conf[0,1]+conf[1,0])).item())\n",
        "    \n",
        "    print(num)\n",
        "    num += 1"
      ]
    },
    {
      "cell_type": "code",
      "execution_count": null,
      "metadata": {},
      "outputs": [],
      "source": [
        "print(accs)\n",
        "print(f1)"
      ]
    },
    {
      "cell_type": "code",
      "execution_count": null,
      "metadata": {
        "id": "ITge6vnLg13I"
      },
      "outputs": [],
      "source": [
        "accs = np.array(accs)\n",
        "sensitivity = np.array(sensitivity)\n",
        "specificity = np.array(specificity)\n",
        "f1 = np.array(f1)\n",
        "\n",
        "m1 = np.argmax(accs)\n",
        "m2 = np.argmax(f1)"
      ]
    },
    {
      "cell_type": "code",
      "execution_count": null,
      "metadata": {
        "colab": {
          "base_uri": "https://localhost:8080/",
          "height": 296
        },
        "id": "RksTwARrg5lm",
        "outputId": "80a677e8-2bd2-43a2-c788-672bca68c412"
      },
      "outputs": [],
      "source": [
        "fig,ax = plt.subplots(1,3,figsize=(15,4))\n",
        "ax[0].plot(threshs,accs)\n",
        "ax[0].set_xlabel('threshold')\n",
        "ax[0].set_ylabel('accuracy')\n",
        "ax[1].plot(threshs,f1)\n",
        "ax[1].set_xlabel('threshold')\n",
        "ax[1].set_ylabel('f1-score')\n",
        "ax[2].plot(1-specificity,sensitivity,'o',label='_nolabel_')\n",
        "ax[2].set_xlabel('1-specificity')\n",
        "ax[2].set_ylabel('sensitivity')\n",
        "ax[2].plot(1-specificity[m1],sensitivity[m1],'ro',label='acc thresh:{}'.format(threshs[m1]))\n",
        "ax[2].plot(1-specificity[m2],sensitivity[m2],'go',label='f1 thresh:{}'.format(threshs[m2]))\n",
        "ax[2].legend()"
      ]
    },
    {
      "cell_type": "markdown",
      "metadata": {
        "id": "FxpLSmPKplld"
      },
      "source": [
        "## Test"
      ]
    },
    {
      "cell_type": "code",
      "execution_count": null,
      "metadata": {
        "colab": {
          "base_uri": "https://localhost:8080/"
        },
        "id": "vIlXH8jcplld",
        "outputId": "d97c5fb8-fd62-4998-b040-2b34d54eb9ce"
      },
      "outputs": [],
      "source": [
        "loss_epoch=0\n",
        "count=0\n",
        "for i,(img1,img2,label) in enumerate(dataloaders['test']):\n",
        "    with torch.no_grad():\n",
        "        out = model(img1,img2)\n",
        "        loss = criterion(out,label)\n",
        "\n",
        "    # track total loss\n",
        "    loss_epoch = loss_epoch+loss\n",
        "    count = count + len(label)\n",
        "print('Test loss: {}'.format(loss_epoch.item()/count))\n",
        "    "
      ]
    },
    {
      "cell_type": "code",
      "execution_count": null,
      "metadata": {
        "colab": {
          "base_uri": "https://localhost:8080/",
          "height": 493
        },
        "id": "sjh3GyZNplld",
        "outputId": "dc142981-53c3-4dfb-ca3f-5764390c7578"
      },
      "outputs": [],
      "source": [
        "# Visualise\n",
        "numex=5 #number of examples\n",
        "fig,ax = plt.subplots(2,numex,figsize=(15,5))\n",
        "for i in range(numex):\n",
        "    example = test_dataset[i]\n",
        "    utils.imshow(example[0],ax[0][i])\n",
        "    utils.imshow(example[1],ax[1][i])\n",
        "    distance = model(example[0].reshape(1,3,64,64),example[1].reshape(1,3,64,64))\n",
        "    ax[0][i].set_title('label:{},distance:{:.2}'.format(example[2].item(),distance.item()))\n",
        "plt.show()"
      ]
    },
    {
      "cell_type": "code",
      "execution_count": null,
      "metadata": {
        "id": "rcwX84fJplle"
      },
      "outputs": [],
      "source": [
        "threshs = [1]\n",
        "accs = []\n",
        "sensitivity = []\n",
        "specificity = []\n",
        "f1=[]\n",
        "\n",
        "\n",
        "for thresh in threshs:\n",
        "    pos=0\n",
        "    neg=0\n",
        "    conf = np.zeros((2,2))\n",
        "    for i,(img1,img2,label) in enumerate(dataloaders['test']):\n",
        "        with torch.no_grad():\n",
        "            out = model(img1,img2)\n",
        "        \n",
        "        conf[1,1] += torch.matmul(label.T,(out>=thresh)*1)\n",
        "        conf[1,0] += torch.matmul(label.T,(out<thresh)*1)\n",
        "        conf[0,1] += torch.matmul((1-label).T,(out>=thresh)*1)\n",
        "        conf[0,0] += torch.matmul((1-label).T,(out<thresh)*1)\n",
        "        pos = pos + torch.sum(label)\n",
        "        neg = neg + torch.sum(1-label)\n",
        "\n",
        "    accs.append(((conf[1,1]+conf[0,0])/(pos+neg)).item())\n",
        "    sensitivity.append((conf[0,0]/neg).item()) #changed 0 and 1 labels (0 is true in the loss fcn)\n",
        "    specificity.append((conf[1,1]/pos).item())\n",
        "    f1.append(((2*conf[0,0])/(2*conf[0,0]+conf[0,1]+conf[1,0])).item())\n",
        "    break"
      ]
    },
    {
      "cell_type": "code",
      "execution_count": null,
      "metadata": {
        "id": "Wp6r0gBJplle"
      },
      "outputs": [],
      "source": [
        "accs = np.array(accs)\n",
        "sensitivity = np.array(sensitivity)\n",
        "specificity = np.array(specificity)\n",
        "f1 = np.array(f1)\n",
        "\n",
        "m1 = np.argmax(accs)\n",
        "m2 = np.argmax(f1)"
      ]
    },
    {
      "cell_type": "code",
      "execution_count": null,
      "metadata": {
        "colab": {
          "base_uri": "https://localhost:8080/",
          "height": 299
        },
        "id": "cFtVNn7kplle",
        "outputId": "c3524574-5970-40d0-a66f-b528ee59a423"
      },
      "outputs": [],
      "source": [
        "fig,ax = plt.subplots(1,3,figsize=(15,4))\n",
        "ax[0].plot(threshs,accs)\n",
        "ax[0].set_xlabel('threshold')\n",
        "ax[0].set_ylabel('accuracy')\n",
        "ax[1].plot(threshs,f1)\n",
        "ax[1].set_xlabel('threshold')\n",
        "ax[1].set_ylabel('f1-score')\n",
        "ax[2].plot(1-specificity,sensitivity,'o',label='_nolabel_')\n",
        "ax[2].set_xlabel('1-specificity')\n",
        "ax[2].set_ylabel('sensitivity')\n",
        "ax[2].plot(1-specificity[m1],sensitivity[m1],'ro',label='acc thresh:{}'.format(threshs[m1]))\n",
        "ax[2].plot(1-specificity[m2],sensitivity[m2],'go',label='f1 thresh:{}'.format(threshs[m2]))\n",
        "ax[2].legend()"
      ]
    },
    {
      "cell_type": "markdown",
      "metadata": {
        "id": "-GjUqF_cplle"
      },
      "source": [
        "## Save model"
      ]
    },
    {
      "cell_type": "code",
      "execution_count": null,
      "metadata": {
        "id": "B-q-iEBJpllf"
      },
      "outputs": [],
      "source": [
        "#torch.save(model.state_dict(),config['MODEL']['modelpath'])\n",
        "model = model.to('cpu')\n",
        "torch.save(model.state_dict(),\"models\\\\mobilenet_state_dict_50cls.pkl\")"
      ]
    },
    {
      "cell_type": "code",
      "execution_count": null,
      "metadata": {},
      "outputs": [],
      "source": []
    },
    {
      "attachments": {},
      "cell_type": "markdown",
      "metadata": {},
      "source": [
        "# Exctract embeddings"
      ]
    },
    {
      "cell_type": "code",
      "execution_count": null,
      "metadata": {},
      "outputs": [],
      "source": [
        "model = model.to(device)"
      ]
    },
    {
      "cell_type": "code",
      "execution_count": null,
      "metadata": {},
      "outputs": [],
      "source": [
        "train_embs = []\n",
        "train_labels = []\n",
        "val_embs = []\n",
        "val_labels = []"
      ]
    },
    {
      "cell_type": "code",
      "execution_count": null,
      "metadata": {},
      "outputs": [],
      "source": [
        "for i,(img1,img2,label) in enumerate(dataloaders['train']):\n",
        "    img1 = img1.to(device)\n",
        "    img2 = img2.to(device)\n",
        "    with torch.no_grad():\n",
        "        out = model.getEmb(img1,img2)\n",
        "\n",
        "    train_embs+=out.tolist()\n",
        "    train_labels+=label.detach().tolist()"
      ]
    },
    {
      "cell_type": "code",
      "execution_count": null,
      "metadata": {},
      "outputs": [],
      "source": [
        "for i,(img1,img2,label) in enumerate(dataloaders['val']):\n",
        "    img1 = img1.to(device)\n",
        "    img2 = img2.to(device)\n",
        "    with torch.no_grad():\n",
        "        out = model.getEmb(img1,img2)\n",
        "\n",
        "    val_embs+=out.tolist()\n",
        "    val_labels+=label.detach().tolist()"
      ]
    },
    {
      "cell_type": "code",
      "execution_count": null,
      "metadata": {},
      "outputs": [],
      "source": [
        "torch.save((train_embs,train_labels),'trainembs.pkl')\n",
        "torch.save((val_embs,val_labels),'valembs.pkl')"
      ]
    }
  ],
  "metadata": {
    "accelerator": "GPU",
    "colab": {
      "collapsed_sections": [
        "FxpLSmPKplld",
        "-GjUqF_cplle"
      ],
      "provenance": []
    },
    "gpuClass": "standard",
    "kernelspec": {
      "display_name": "MLenv",
      "language": "python",
      "name": "python3"
    },
    "language_info": {
      "codemirror_mode": {
        "name": "ipython",
        "version": 3
      },
      "file_extension": ".py",
      "mimetype": "text/x-python",
      "name": "python",
      "nbconvert_exporter": "python",
      "pygments_lexer": "ipython3",
      "version": "3.10.4"
    },
    "vscode": {
      "interpreter": {
        "hash": "665aa01f3af077fd5771c858d8fc10596be116db06e0fbc8e2a6e92782d15ae1"
      }
    }
  },
  "nbformat": 4,
  "nbformat_minor": 0
}
