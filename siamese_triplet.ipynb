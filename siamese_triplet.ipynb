{
  "cells": [
    {
      "cell_type": "markdown",
      "metadata": {
        "id": "Q93QhrZMpllR"
      },
      "source": [
        "# Image matching with Siamese networks\n",
        "## Dependencies"
      ]
    },
    {
      "cell_type": "code",
      "execution_count": 1,
      "metadata": {
        "id": "kfLmrjV1pllV"
      },
      "outputs": [],
      "source": [
        "import matplotlib.pyplot as plt\n",
        "import numpy as np\n",
        "\n",
        "import torch\n",
        "from torch import optim\n",
        "from torch.optim.lr_scheduler import StepLR\n",
        "from torchvision import transforms\n",
        "from torch.utils.data import DataLoader\n",
        "import utilities as utils \n",
        "from siameseDataloader import readDataFolder, dataSplits, TripletDataset\n",
        "from siameseModel import MobileNetTriplet"
      ]
    },
    {
      "cell_type": "code",
      "execution_count": 2,
      "metadata": {
        "id": "ioGAoVNzpllW"
      },
      "outputs": [],
      "source": [
        "import os\n",
        "config = utils.load_config()\n",
        "datadir = os.path.join('data','tiny-imagenet-200-copy','train')#config['DATASET']['root']\n",
        "numclasses = config['DATASET']['numclasses']\n",
        "sameprob = config['DATASET']['sameprob']\n",
        "im_size = config['DATASET']['im_size']\n",
        "emb_size=config['MODEL']['embsize']\n",
        "\n",
        "seed = config['seed']\n",
        "np.random.seed(seed)\n",
        "\n",
        "device = config['TRAIN']['device']"
      ]
    },
    {
      "cell_type": "markdown",
      "metadata": {
        "id": "OI5tIw04pllX"
      },
      "source": [
        "## Dataset"
      ]
    },
    {
      "cell_type": "code",
      "execution_count": 3,
      "metadata": {
        "colab": {
          "base_uri": "https://localhost:8080/"
        },
        "id": "1pS1Wv6upllX",
        "outputId": "40ca24b7-da0e-4c02-ecff-6d01a6723e9d"
      },
      "outputs": [
        {
          "name": "stdout",
          "output_type": "stream",
          "text": [
            "Dataset ImageFolder\n",
            "    Number of datapoints: 25000\n",
            "    Root location: data\\tiny-imagenet-200-copy\\train\n"
          ]
        }
      ],
      "source": [
        "dataset = readDataFolder(datadir,numclasses)\n",
        "print(dataset)"
      ]
    },
    {
      "cell_type": "code",
      "execution_count": 4,
      "metadata": {
        "id": "OmlUZ4bAvSyA"
      },
      "outputs": [],
      "source": [
        "train_split,val_split,test_split = dataSplits(dataset,0.8,0.2,0)"
      ]
    },
    {
      "cell_type": "code",
      "execution_count": 5,
      "metadata": {
        "id": "Cy0bMF7rpllY"
      },
      "outputs": [],
      "source": [
        "train_transforms = transforms.Compose([\n",
        "    transforms.Resize(im_size+4),\n",
        "    transforms.RandomCrop(im_size),\n",
        "    transforms.RandomHorizontalFlip(),\n",
        "    transforms.RandomAffine(0.3),\n",
        "    transforms.ToTensor(),\n",
        "    #transforms.Normalize([0.4914, 0.4822, 0.4465], [0.2023, 0.1994, 0.2010])\n",
        "    transforms.Normalize([0.507, 0.4865, 0.4409], [0.2673, 0.2564, 0.2761])\n",
        "])\n",
        "test_transforms = transforms.Compose([\n",
        "    transforms.Resize(im_size),\n",
        "    transforms.CenterCrop(im_size),\n",
        "    transforms.ToTensor(),\n",
        "    #transforms.Normalize([0.4914, 0.4822, 0.4465], [0.2023, 0.1994, 0.2010])\n",
        "    transforms.Normalize([0.507, 0.4865, 0.4409], [0.2673, 0.2564, 0.2761])\n",
        "])\n",
        "\n",
        "train_dataset = TripletDataset(train_split,train_transforms)\n",
        "val_dataset = TripletDataset(val_split,test_transforms)\n",
        "test_dataset = TripletDataset(test_split,test_transforms)\n",
        "\n",
        "datasets = {'train':train_dataset,'val':val_dataset,'test':test_dataset}"
      ]
    },
    {
      "cell_type": "code",
      "execution_count": 6,
      "metadata": {
        "id": "MTWN4JlQpllY"
      },
      "outputs": [],
      "source": [
        "#dataloaders\n",
        "dataloaders = {\n",
        "    'train': DataLoader(train_dataset,shuffle=True,\n",
        "                        num_workers=config['TRAIN']['numworkers'],\n",
        "                        batch_size=config['TRAIN']['batchsize']),\n",
        "    'val': DataLoader(val_dataset,shuffle=False,\n",
        "                        num_workers=config['TRAIN']['numworkers'],\n",
        "                        batch_size=config['TRAIN']['batchsize']),\n",
        "    'test': DataLoader(test_dataset,shuffle=False,\n",
        "                        num_workers=config['TRAIN']['numworkers'],\n",
        "                        batch_size=config['TRAIN']['batchsize'])\n",
        "}"
      ]
    },
    {
      "cell_type": "code",
      "execution_count": 7,
      "metadata": {},
      "outputs": [
        {
          "name": "stdout",
          "output_type": "stream",
          "text": [
            "torch.Size([32, 3, 32, 32])\n"
          ]
        }
      ],
      "source": [
        "for i,data in enumerate(dataloaders['train']):\n",
        "    print(data[0].shape)\n",
        "    break"
      ]
    },
    {
      "cell_type": "markdown",
      "metadata": {
        "id": "JRwIBybxpllZ"
      },
      "source": [
        "## Model"
      ]
    },
    {
      "cell_type": "code",
      "execution_count": 14,
      "metadata": {
        "colab": {
          "base_uri": "https://localhost:8080/"
        },
        "id": "kcLN38fZpllZ",
        "outputId": "8c1bb3ef-8af5-45ee-e365-86a80319bdd8"
      },
      "outputs": [
        {
          "name": "stderr",
          "output_type": "stream",
          "text": [
            "Using cache found in C:\\Users\\Emilija/.cache\\torch\\hub\\chenyaofo_pytorch-cifar-models_master\n"
          ]
        }
      ],
      "source": [
        "model = MobileNetTriplet(config['MODEL']['distance'],embsize=emb_size,pretrained=config['MODEL']['pretrained'])"
      ]
    },
    {
      "cell_type": "code",
      "execution_count": 9,
      "metadata": {},
      "outputs": [],
      "source": [
        "for param in model.parameters():\n",
        "    param.requires_grad = True"
      ]
    },
    {
      "cell_type": "code",
      "execution_count": 10,
      "metadata": {},
      "outputs": [
        {
          "name": "stdout",
          "output_type": "stream",
          "text": [
            "4431828\n"
          ]
        }
      ],
      "source": [
        "pytorch_total_params = sum(p.numel() for p in model.parameters() if p.requires_grad)\n",
        "print(pytorch_total_params)"
      ]
    },
    {
      "cell_type": "code",
      "execution_count": 11,
      "metadata": {
        "colab": {
          "base_uri": "https://localhost:8080/"
        },
        "id": "nlyIXdtJplla",
        "outputId": "3c41d846-7bda-497a-f9cf-fffaad2a5202"
      },
      "outputs": [
        {
          "name": "stdout",
          "output_type": "stream",
          "text": [
            "(tensor([[ 0.0671, -0.1113,  0.0613, -0.0598,  0.0864,  0.2344,  0.0288,  0.0850,\n",
            "         -0.1108,  0.0588,  0.0656,  0.0956,  0.1192,  0.1203,  0.0472,  0.0315,\n",
            "          0.0266,  0.1176,  0.0608, -0.1547]], grad_fn=<AddmmBackward0>), tensor([[ 0.0648, -0.1174,  0.0603, -0.0589,  0.0839,  0.2338,  0.0263,  0.0824,\n",
            "         -0.1131,  0.0615,  0.0627,  0.0960,  0.1219,  0.1171,  0.0466,  0.0290,\n",
            "          0.0303,  0.1132,  0.0636, -0.1523]], grad_fn=<AddmmBackward0>), tensor([[ 0.0673, -0.1120,  0.0625, -0.0596,  0.0865,  0.2323,  0.0253,  0.0836,\n",
            "         -0.1071,  0.0575,  0.0658,  0.0984,  0.1180,  0.1185,  0.0506,  0.0289,\n",
            "          0.0263,  0.1131,  0.0600, -0.1522]], grad_fn=<AddmmBackward0>))\n"
          ]
        }
      ],
      "source": [
        "data = train_dataset[400]\n",
        "out = model(data[0].reshape(1,3,im_size,im_size),data[1].reshape(1,3,im_size,im_size),data[2].reshape(1,3,im_size,im_size))\n",
        "print(out)\n",
        "#print(criterion(out,data[2]))\n"
      ]
    },
    {
      "cell_type": "markdown",
      "metadata": {
        "id": "NAgPodwZpllb"
      },
      "source": [
        "## Train"
      ]
    },
    {
      "cell_type": "code",
      "execution_count": 12,
      "metadata": {},
      "outputs": [],
      "source": [
        "#model.to('cpu')\n",
        "#model.load_state_dict(model1)"
      ]
    },
    {
      "cell_type": "code",
      "execution_count": 13,
      "metadata": {},
      "outputs": [],
      "source": [
        "criterion = torch.nn.TripletMarginWithDistanceLoss(margin = config['TRAIN']['lossmargin'], distance_function=model.distance)\n",
        "#config['TRAIN']['lr'] =0.0005\n",
        "optimizer = optim.Adam(model.parameters(),lr = config['TRAIN']['lr'],weight_decay=0.03)\n",
        "#scheduler = StepLR(optimizer, step_size=10, gamma=0.1)"
      ]
    },
    {
      "cell_type": "code",
      "execution_count": 14,
      "metadata": {
        "id": "caaBjVTzpllb"
      },
      "outputs": [],
      "source": [
        "\n",
        "model = model.to(device)"
      ]
    },
    {
      "cell_type": "code",
      "execution_count": 15,
      "metadata": {
        "id": "jPpgvdHTpllc"
      },
      "outputs": [],
      "source": [
        "loss_history ={'train':[],'val':[]}\n",
        "minloss=10000\n"
      ]
    },
    {
      "cell_type": "code",
      "execution_count": 16,
      "metadata": {},
      "outputs": [],
      "source": [
        "best_model = model.state_dict().copy() "
      ]
    },
    {
      "cell_type": "code",
      "execution_count": 17,
      "metadata": {
        "colab": {
          "base_uri": "https://localhost:8080/"
        },
        "id": "KMYzWIedpllc",
        "outputId": "3b82562b-596a-4f37-f113-3df4505962e2"
      },
      "outputs": [
        {
          "name": "stdout",
          "output_type": "stream",
          "text": [
            "Epoch: 0,\t train loss:0.038819,\t val loss:0.032922\n",
            "Epoch: 1,\t train loss:0.030971,\t val loss:0.029884\n",
            "Epoch: 2,\t train loss:0.028365,\t val loss:0.029322\n",
            "Epoch: 3,\t train loss:0.026906,\t val loss:0.02971\n",
            "Epoch: 4,\t train loss:0.026626,\t val loss:0.027626\n",
            "Epoch: 5,\t train loss:0.025487,\t val loss:0.028355\n",
            "Epoch: 6,\t train loss:0.02447,\t val loss:0.026417\n",
            "Epoch: 7,\t train loss:0.024221,\t val loss:0.026369\n",
            "Epoch: 8,\t train loss:0.023905,\t val loss:0.026249\n",
            "Epoch: 9,\t train loss:0.023694,\t val loss:0.0259\n",
            "Epoch: 10,\t train loss:0.023069,\t val loss:0.02673\n",
            "Epoch: 11,\t train loss:0.023136,\t val loss:0.025964\n",
            "Epoch: 12,\t train loss:0.022258,\t val loss:0.027267\n",
            "Epoch: 13,\t train loss:0.023169,\t val loss:0.027505\n"
          ]
        },
        {
          "ename": "KeyboardInterrupt",
          "evalue": "",
          "output_type": "error",
          "traceback": [
            "\u001b[1;31m---------------------------------------------------------------------------\u001b[0m",
            "\u001b[1;31mKeyboardInterrupt\u001b[0m                         Traceback (most recent call last)",
            "\u001b[1;32mc:\\Users\\Emilija\\Desktop\\cambridge\\lecture material\\CV\\Image_Matching_Siamese_Network\\siamese_triplet.ipynb Cell 21\u001b[0m in \u001b[0;36m<cell line: 1>\u001b[1;34m()\u001b[0m\n\u001b[0;32m     <a href='vscode-notebook-cell:/c%3A/Users/Emilija/Desktop/cambridge/lecture%20material/CV/Image_Matching_Siamese_Network/siamese_triplet.ipynb#X32sZmlsZQ%3D%3D?line=14'>15</a>\u001b[0m     loss \u001b[39m=\u001b[39m criterion(out1,out2,out3)\n\u001b[0;32m     <a href='vscode-notebook-cell:/c%3A/Users/Emilija/Desktop/cambridge/lecture%20material/CV/Image_Matching_Siamese_Network/siamese_triplet.ipynb#X32sZmlsZQ%3D%3D?line=15'>16</a>\u001b[0m     loss\u001b[39m.\u001b[39mbackward()\n\u001b[1;32m---> <a href='vscode-notebook-cell:/c%3A/Users/Emilija/Desktop/cambridge/lecture%20material/CV/Image_Matching_Siamese_Network/siamese_triplet.ipynb#X32sZmlsZQ%3D%3D?line=16'>17</a>\u001b[0m     optimizer\u001b[39m.\u001b[39;49mstep()\n\u001b[0;32m     <a href='vscode-notebook-cell:/c%3A/Users/Emilija/Desktop/cambridge/lecture%20material/CV/Image_Matching_Siamese_Network/siamese_triplet.ipynb#X32sZmlsZQ%3D%3D?line=18'>19</a>\u001b[0m \u001b[39melse\u001b[39;00m:\n\u001b[0;32m     <a href='vscode-notebook-cell:/c%3A/Users/Emilija/Desktop/cambridge/lecture%20material/CV/Image_Matching_Siamese_Network/siamese_triplet.ipynb#X32sZmlsZQ%3D%3D?line=19'>20</a>\u001b[0m     model\u001b[39m.\u001b[39meval()\n",
            "File \u001b[1;32mc:\\Users\\Emilija\\.conda\\envs\\MLenv\\lib\\site-packages\\torch\\optim\\optimizer.py:88\u001b[0m, in \u001b[0;36mOptimizer._hook_for_profile.<locals>.profile_hook_step.<locals>.wrapper\u001b[1;34m(*args, **kwargs)\u001b[0m\n\u001b[0;32m     86\u001b[0m profile_name \u001b[39m=\u001b[39m \u001b[39m\"\u001b[39m\u001b[39mOptimizer.step#\u001b[39m\u001b[39m{}\u001b[39;00m\u001b[39m.step\u001b[39m\u001b[39m\"\u001b[39m\u001b[39m.\u001b[39mformat(obj\u001b[39m.\u001b[39m\u001b[39m__class__\u001b[39m\u001b[39m.\u001b[39m\u001b[39m__name__\u001b[39m)\n\u001b[0;32m     87\u001b[0m \u001b[39mwith\u001b[39;00m torch\u001b[39m.\u001b[39mautograd\u001b[39m.\u001b[39mprofiler\u001b[39m.\u001b[39mrecord_function(profile_name):\n\u001b[1;32m---> 88\u001b[0m     \u001b[39mreturn\u001b[39;00m func(\u001b[39m*\u001b[39margs, \u001b[39m*\u001b[39m\u001b[39m*\u001b[39mkwargs)\n",
            "File \u001b[1;32mc:\\Users\\Emilija\\.conda\\envs\\MLenv\\lib\\site-packages\\torch\\autograd\\grad_mode.py:27\u001b[0m, in \u001b[0;36m_DecoratorContextManager.__call__.<locals>.decorate_context\u001b[1;34m(*args, **kwargs)\u001b[0m\n\u001b[0;32m     24\u001b[0m \u001b[39m@functools\u001b[39m\u001b[39m.\u001b[39mwraps(func)\n\u001b[0;32m     25\u001b[0m \u001b[39mdef\u001b[39;00m \u001b[39mdecorate_context\u001b[39m(\u001b[39m*\u001b[39margs, \u001b[39m*\u001b[39m\u001b[39m*\u001b[39mkwargs):\n\u001b[0;32m     26\u001b[0m     \u001b[39mwith\u001b[39;00m \u001b[39mself\u001b[39m\u001b[39m.\u001b[39mclone():\n\u001b[1;32m---> 27\u001b[0m         \u001b[39mreturn\u001b[39;00m func(\u001b[39m*\u001b[39margs, \u001b[39m*\u001b[39m\u001b[39m*\u001b[39mkwargs)\n",
            "File \u001b[1;32mc:\\Users\\Emilija\\.conda\\envs\\MLenv\\lib\\site-packages\\torch\\optim\\adam.py:141\u001b[0m, in \u001b[0;36mAdam.step\u001b[1;34m(self, closure)\u001b[0m\n\u001b[0;32m    138\u001b[0m             \u001b[39m# record the step after step update\u001b[39;00m\n\u001b[0;32m    139\u001b[0m             state_steps\u001b[39m.\u001b[39mappend(state[\u001b[39m'\u001b[39m\u001b[39mstep\u001b[39m\u001b[39m'\u001b[39m])\n\u001b[1;32m--> 141\u001b[0m     F\u001b[39m.\u001b[39;49madam(params_with_grad,\n\u001b[0;32m    142\u001b[0m            grads,\n\u001b[0;32m    143\u001b[0m            exp_avgs,\n\u001b[0;32m    144\u001b[0m            exp_avg_sqs,\n\u001b[0;32m    145\u001b[0m            max_exp_avg_sqs,\n\u001b[0;32m    146\u001b[0m            state_steps,\n\u001b[0;32m    147\u001b[0m            amsgrad\u001b[39m=\u001b[39;49mgroup[\u001b[39m'\u001b[39;49m\u001b[39mamsgrad\u001b[39;49m\u001b[39m'\u001b[39;49m],\n\u001b[0;32m    148\u001b[0m            beta1\u001b[39m=\u001b[39;49mbeta1,\n\u001b[0;32m    149\u001b[0m            beta2\u001b[39m=\u001b[39;49mbeta2,\n\u001b[0;32m    150\u001b[0m            lr\u001b[39m=\u001b[39;49mgroup[\u001b[39m'\u001b[39;49m\u001b[39mlr\u001b[39;49m\u001b[39m'\u001b[39;49m],\n\u001b[0;32m    151\u001b[0m            weight_decay\u001b[39m=\u001b[39;49mgroup[\u001b[39m'\u001b[39;49m\u001b[39mweight_decay\u001b[39;49m\u001b[39m'\u001b[39;49m],\n\u001b[0;32m    152\u001b[0m            eps\u001b[39m=\u001b[39;49mgroup[\u001b[39m'\u001b[39;49m\u001b[39meps\u001b[39;49m\u001b[39m'\u001b[39;49m],\n\u001b[0;32m    153\u001b[0m            maximize\u001b[39m=\u001b[39;49mgroup[\u001b[39m'\u001b[39;49m\u001b[39mmaximize\u001b[39;49m\u001b[39m'\u001b[39;49m])\n\u001b[0;32m    154\u001b[0m \u001b[39mreturn\u001b[39;00m loss\n",
            "File \u001b[1;32mc:\\Users\\Emilija\\.conda\\envs\\MLenv\\lib\\site-packages\\torch\\optim\\_functional.py:110\u001b[0m, in \u001b[0;36madam\u001b[1;34m(params, grads, exp_avgs, exp_avg_sqs, max_exp_avg_sqs, state_steps, amsgrad, beta1, beta2, lr, weight_decay, eps, maximize)\u001b[0m\n\u001b[0;32m    105\u001b[0m     denom \u001b[39m=\u001b[39m (exp_avg_sq\u001b[39m.\u001b[39msqrt() \u001b[39m/\u001b[39m math\u001b[39m.\u001b[39msqrt(bias_correction2))\u001b[39m.\u001b[39madd_(eps)\n\u001b[0;32m    109\u001b[0m step_size \u001b[39m=\u001b[39m lr \u001b[39m/\u001b[39m bias_correction1\n\u001b[1;32m--> 110\u001b[0m param\u001b[39m.\u001b[39;49maddcdiv_(exp_avg, denom, value\u001b[39m=\u001b[39;49m\u001b[39m-\u001b[39;49mstep_size)\n",
            "\u001b[1;31mKeyboardInterrupt\u001b[0m: "
          ]
        }
      ],
      "source": [
        "\n",
        "for epoch in range(config['TRAIN']['numepochs']):\n",
        "    for mode in ['train','val']:\n",
        "        loss_epoch=0\n",
        "        count=0\n",
        "        for i,(img1,img2,img3) in enumerate(dataloaders[mode]):\n",
        "            img1 = img1.to(device)\n",
        "            img2 = img2.to(device)\n",
        "            img3 = img3.to(device)\n",
        "            \n",
        "            if mode=='train':\n",
        "                model.train()\n",
        "                \n",
        "                optimizer.zero_grad()\n",
        "                out1,out2,out3 = model(img1,img2,img3)\n",
        "                loss = criterion(out1,out2,out3)\n",
        "                loss.backward()\n",
        "                optimizer.step()\n",
        "                \n",
        "            else:\n",
        "                model.eval()\n",
        "                with torch.no_grad():\n",
        "                    out1,out2,out3 = model(img1,img2,img3)\n",
        "                loss = criterion(out1,out2,out3)\n",
        "            \n",
        "            # track total loss\n",
        "            loss_epoch = loss_epoch+loss\n",
        "            count = count + img1.shape[0]\n",
        "            \n",
        "        #scheduler.step()\n",
        "        \n",
        "        loss_history[mode].append(loss_epoch.item()/count)\n",
        "    print('Epoch: {},\\t train loss:{:.5},\\t val loss:{:.5}'.format(epoch,loss_history['train'][-1],loss_history['val'][-1]))\n",
        "\n",
        "    if (loss_history['val'][-1] < minloss):\n",
        "        minloss = loss_history['val'][-1]\n",
        "        best_model = model.state_dict().copy()\n",
        "            \n",
        "            "
      ]
    },
    {
      "cell_type": "code",
      "execution_count": 18,
      "metadata": {},
      "outputs": [
        {
          "data": {
            "text/plain": [
              "<All keys matched successfully>"
            ]
          },
          "execution_count": 18,
          "metadata": {},
          "output_type": "execute_result"
        }
      ],
      "source": [
        "model.load_state_dict(best_model)"
      ]
    },
    {
      "cell_type": "code",
      "execution_count": 19,
      "metadata": {
        "colab": {
          "base_uri": "https://localhost:8080/",
          "height": 282
        },
        "id": "FSjCw2Jppllc",
        "outputId": "fb64d293-3dd8-4b38-e43a-b679a603dfc3"
      },
      "outputs": [
        {
          "data": {
            "text/plain": [
              "[<matplotlib.lines.Line2D at 0x26e824d9720>]"
            ]
          },
          "execution_count": 19,
          "metadata": {},
          "output_type": "execute_result"
        },
        {
          "data": {
            "image/png": "[encoded data removed]",
            "text/plain": [
              "<Figure size 432x288 with 1 Axes>"
            ]
          },
          "metadata": {
            "needs_background": "light"
          },
          "output_type": "display_data"
        }
      ],
      "source": [
        "plt.figure()\n",
        "plt.plot(loss_history['train'],'b-')\n",
        "plt.plot(loss_history['val'],'r-')"
      ]
    },
    {
      "attachments": {},
      "cell_type": "markdown",
      "metadata": {},
      "source": [
        "## Train acc"
      ]
    },
    {
      "cell_type": "code",
      "execution_count": null,
      "metadata": {},
      "outputs": [],
      "source": [
        "model.eval()\n",
        "model=model.to(device)\n",
        "#threshs = np.linspace(start=0,stop=config['TRAIN']['lossmargin']*1.2,num=10)\n",
        "threshs = [config['TRAIN']['lossmargin']/2]\n",
        "#threshs=[0.5]\n",
        "accs = []\n",
        "sensitivity = []\n",
        "specificity = []\n",
        "f1=[]\n",
        "\n",
        "\n",
        "for thresh in threshs:\n",
        "    pos=0\n",
        "    neg=0\n",
        "    conf = np.zeros((2,2))\n",
        "    for i,(img1,img2,label) in enumerate(dataloaders['train']):\n",
        "        img1=img1.to(device)\n",
        "        img2=img2.to(device)\n",
        "        label=label.to(device)\n",
        "        with torch.no_grad():\n",
        "            out = model(img1,img2)\n",
        "        \n",
        "        conf[1,1] += torch.matmul(label.T*1.,(out>=thresh)*1.)\n",
        "        conf[1,0] += torch.matmul(label.T*1.,(out<thresh)*1.)\n",
        "        conf[0,1] += torch.matmul((1-label).T*1.,(out>=thresh)*1.)\n",
        "        conf[0,0] += torch.matmul((1-label).T*1.,(out<thresh)*1.)\n",
        "        pos = pos + torch.sum(label)\n",
        "        neg = neg + torch.sum(1-label)\n",
        "\n",
        "    accs.append(((conf[1,1]+conf[0,0])/(pos+neg)).item())\n",
        "    sensitivity.append((conf[0,0]/neg).item()) #changed 0 and 1 labels (0 is true in the loss fcn)\n",
        "    specificity.append((conf[1,1]/pos).item())\n",
        "    f1.append(((2*conf[0,0])/(2*conf[0,0]+conf[0,1]+conf[1,0])).item())"
      ]
    },
    {
      "cell_type": "code",
      "execution_count": null,
      "metadata": {},
      "outputs": [],
      "source": [
        "print(accs)\n",
        "print(f1)"
      ]
    },
    {
      "cell_type": "markdown",
      "metadata": {
        "id": "cNFBMDQSgg8T"
      },
      "source": [
        "## Val"
      ]
    },
    {
      "cell_type": "code",
      "execution_count": null,
      "metadata": {
        "colab": {
          "base_uri": "https://localhost:8080/"
        },
        "id": "pVa241BzgfUL",
        "outputId": "5b0dae45-eb97-4fc6-9663-d2348d3f1db7"
      },
      "outputs": [],
      "source": [
        "loss_epoch = 0\n",
        "count=0\n",
        "for i,(img1,img2,label) in enumerate(dataloaders['val']):\n",
        "    img1 = img1.to(device)\n",
        "    img2=img2.to(device)\n",
        "    label = label.to(device)\n",
        "    with torch.no_grad():\n",
        "        out = model(img1,img2)\n",
        "        loss = criterion(out,label)\n",
        "\n",
        "    # track total loss\n",
        "    loss_epoch = loss_epoch+loss\n",
        "    count = count + len(label)\n",
        "print('Validation loss: {}'.format(loss_epoch.item()/count))"
      ]
    },
    {
      "cell_type": "code",
      "execution_count": null,
      "metadata": {
        "colab": {
          "base_uri": "https://localhost:8080/",
          "height": 493
        },
        "id": "-W8PWPoJgsYq",
        "outputId": "a414ce06-b114-4415-f2e4-622771010ff2"
      },
      "outputs": [],
      "source": [
        "# Visualise\n",
        "numex=5 #number of examples\n",
        "fig,ax = plt.subplots(2,numex,figsize=(15,5))\n",
        "for i in range(numex):\n",
        "    example = val_dataset[i]\n",
        "    utils.imshow(example[0],ax[0][i])\n",
        "    utils.imshow(example[1],ax[1][i])\n",
        "    distance = model(example[0].reshape(1,3,im_size,im_size).to(device),example[1].reshape(1,3,im_size,im_size).to(device))\n",
        "    ax[0][i].set_title('label:{},distance:{:.2}'.format(example[2].item(),distance.item()))\n",
        "plt.show()"
      ]
    },
    {
      "cell_type": "code",
      "execution_count": null,
      "metadata": {
        "colab": {
          "base_uri": "https://localhost:8080/"
        },
        "id": "s4Kw9s08gvs0",
        "outputId": "a1c15d2f-74c1-455f-b5e1-adadaa5926db"
      },
      "outputs": [],
      "source": [
        "#threshs = np.linspace(start=0,stop=config['TRAIN']['lossmargin']*1.2,num=11)\n",
        "threshs = [config['TRAIN']['lossmargin']/2]\n",
        "#threshs = [0.5]\n",
        "#threshs = np.linspace(start=0,stop=1,num=11)\n",
        "accs=[]\n",
        "sensitivity = []\n",
        "specificity = []\n",
        "f1=[]\n",
        "\n",
        "num=0\n",
        "for thresh in threshs:\n",
        "    pos=0\n",
        "    neg=0\n",
        "    conf = np.zeros((2,2))\n",
        "    for i,(img1,img2,label) in enumerate(dataloaders['val']):\n",
        "        img1=img1.to(device)\n",
        "        img2=img2.to(device)\n",
        "        label=label.to(device)\n",
        "        \n",
        "        with torch.no_grad():\n",
        "            out = model(img1,img2)\n",
        "        \n",
        "        conf[1,1] += torch.matmul(label.T*1.,(out>=thresh)*1.)\n",
        "        conf[1,0] += torch.matmul(label.T*1.,(out<thresh)*1.)\n",
        "        conf[0,1] += torch.matmul((1-label).T*1.,(out>=thresh)*1.)\n",
        "        conf[0,0] += torch.matmul((1-label).T*1.,(out<thresh)*1.)\n",
        "        pos = pos + torch.sum(label)\n",
        "        neg = neg + torch.sum(1-label)\n",
        "\n",
        "    accs.append(((conf[1,1]+conf[0,0])/(pos+neg)).item())\n",
        "    sensitivity.append((conf[0,0]/neg).item()) #changed 0 and 1 labels (0 is true in the loss fcn)\n",
        "    specificity.append((conf[1,1]/pos).item())\n",
        "    f1.append(((2*conf[0,0])/(2*conf[0,0]+conf[0,1]+conf[1,0])).item())\n",
        "    \n",
        "    print(num)\n",
        "    num += 1"
      ]
    },
    {
      "cell_type": "code",
      "execution_count": null,
      "metadata": {},
      "outputs": [],
      "source": [
        "print(accs)\n",
        "print(f1)"
      ]
    },
    {
      "cell_type": "code",
      "execution_count": null,
      "metadata": {
        "id": "ITge6vnLg13I"
      },
      "outputs": [],
      "source": [
        "accs = np.array(accs)\n",
        "sensitivity = np.array(sensitivity)\n",
        "specificity = np.array(specificity)\n",
        "f1 = np.array(f1)\n",
        "\n",
        "m1 = np.argmax(accs)\n",
        "m2 = np.argmax(f1)"
      ]
    },
    {
      "cell_type": "code",
      "execution_count": null,
      "metadata": {
        "colab": {
          "base_uri": "https://localhost:8080/",
          "height": 296
        },
        "id": "RksTwARrg5lm",
        "outputId": "80a677e8-2bd2-43a2-c788-672bca68c412"
      },
      "outputs": [],
      "source": [
        "fig,ax = plt.subplots(1,3,figsize=(15,4))\n",
        "ax[0].plot(threshs,accs)\n",
        "ax[0].set_xlabel('threshold')\n",
        "ax[0].set_ylabel('accuracy')\n",
        "ax[1].plot(threshs,f1)\n",
        "ax[1].set_xlabel('threshold')\n",
        "ax[1].set_ylabel('f1-score')\n",
        "ax[2].plot(1-specificity,sensitivity,'o',label='_nolabel_')\n",
        "ax[2].set_xlabel('1-specificity')\n",
        "ax[2].set_ylabel('sensitivity')\n",
        "ax[2].plot(1-specificity[m1],sensitivity[m1],'ro',label='acc thresh:{}'.format(threshs[m1]))\n",
        "ax[2].plot(1-specificity[m2],sensitivity[m2],'go',label='f1 thresh:{}'.format(threshs[m2]))\n",
        "ax[2].legend()"
      ]
    },
    {
      "cell_type": "markdown",
      "metadata": {
        "id": "FxpLSmPKplld"
      },
      "source": [
        "## Test"
      ]
    },
    {
      "cell_type": "code",
      "execution_count": null,
      "metadata": {
        "colab": {
          "base_uri": "https://localhost:8080/"
        },
        "id": "vIlXH8jcplld",
        "outputId": "d97c5fb8-fd62-4998-b040-2b34d54eb9ce"
      },
      "outputs": [],
      "source": [
        "loss_epoch=0\n",
        "count=0\n",
        "for i,(img1,img2,label) in enumerate(dataloaders['test']):\n",
        "    with torch.no_grad():\n",
        "        out = model(img1,img2)\n",
        "        loss = criterion(out,label)\n",
        "\n",
        "    # track total loss\n",
        "    loss_epoch = loss_epoch+loss\n",
        "    count = count + len(label)\n",
        "print('Test loss: {}'.format(loss_epoch.item()/count))\n",
        "    "
      ]
    },
    {
      "cell_type": "code",
      "execution_count": null,
      "metadata": {
        "colab": {
          "base_uri": "https://localhost:8080/",
          "height": 493
        },
        "id": "sjh3GyZNplld",
        "outputId": "dc142981-53c3-4dfb-ca3f-5764390c7578"
      },
      "outputs": [],
      "source": [
        "# Visualise\n",
        "numex=5 #number of examples\n",
        "fig,ax = plt.subplots(2,numex,figsize=(15,5))\n",
        "for i in range(numex):\n",
        "    example = test_dataset[i]\n",
        "    utils.imshow(example[0],ax[0][i])\n",
        "    utils.imshow(example[1],ax[1][i])\n",
        "    distance = model(example[0].reshape(1,3,64,64),example[1].reshape(1,3,64,64))\n",
        "    ax[0][i].set_title('label:{},distance:{:.2}'.format(example[2].item(),distance.item()))\n",
        "plt.show()"
      ]
    },
    {
      "cell_type": "code",
      "execution_count": null,
      "metadata": {
        "id": "rcwX84fJplle"
      },
      "outputs": [],
      "source": [
        "threshs = [1]\n",
        "accs = []\n",
        "sensitivity = []\n",
        "specificity = []\n",
        "f1=[]\n",
        "\n",
        "\n",
        "for thresh in threshs:\n",
        "    pos=0\n",
        "    neg=0\n",
        "    conf = np.zeros((2,2))\n",
        "    for i,(img1,img2,label) in enumerate(dataloaders['test']):\n",
        "        with torch.no_grad():\n",
        "            out = model(img1,img2)\n",
        "        \n",
        "        conf[1,1] += torch.matmul(label.T,(out>=thresh)*1)\n",
        "        conf[1,0] += torch.matmul(label.T,(out<thresh)*1)\n",
        "        conf[0,1] += torch.matmul((1-label).T,(out>=thresh)*1)\n",
        "        conf[0,0] += torch.matmul((1-label).T,(out<thresh)*1)\n",
        "        pos = pos + torch.sum(label)\n",
        "        neg = neg + torch.sum(1-label)\n",
        "\n",
        "    accs.append(((conf[1,1]+conf[0,0])/(pos+neg)).item())\n",
        "    sensitivity.append((conf[0,0]/neg).item()) #changed 0 and 1 labels (0 is true in the loss fcn)\n",
        "    specificity.append((conf[1,1]/pos).item())\n",
        "    f1.append(((2*conf[0,0])/(2*conf[0,0]+conf[0,1]+conf[1,0])).item())\n",
        "    break"
      ]
    },
    {
      "cell_type": "code",
      "execution_count": null,
      "metadata": {
        "id": "Wp6r0gBJplle"
      },
      "outputs": [],
      "source": [
        "accs = np.array(accs)\n",
        "sensitivity = np.array(sensitivity)\n",
        "specificity = np.array(specificity)\n",
        "f1 = np.array(f1)\n",
        "\n",
        "m1 = np.argmax(accs)\n",
        "m2 = np.argmax(f1)"
      ]
    },
    {
      "cell_type": "code",
      "execution_count": null,
      "metadata": {
        "colab": {
          "base_uri": "https://localhost:8080/",
          "height": 299
        },
        "id": "cFtVNn7kplle",
        "outputId": "c3524574-5970-40d0-a66f-b528ee59a423"
      },
      "outputs": [],
      "source": [
        "fig,ax = plt.subplots(1,3,figsize=(15,4))\n",
        "ax[0].plot(threshs,accs)\n",
        "ax[0].set_xlabel('threshold')\n",
        "ax[0].set_ylabel('accuracy')\n",
        "ax[1].plot(threshs,f1)\n",
        "ax[1].set_xlabel('threshold')\n",
        "ax[1].set_ylabel('f1-score')\n",
        "ax[2].plot(1-specificity,sensitivity,'o',label='_nolabel_')\n",
        "ax[2].set_xlabel('1-specificity')\n",
        "ax[2].set_ylabel('sensitivity')\n",
        "ax[2].plot(1-specificity[m1],sensitivity[m1],'ro',label='acc thresh:{}'.format(threshs[m1]))\n",
        "ax[2].plot(1-specificity[m2],sensitivity[m2],'go',label='f1 thresh:{}'.format(threshs[m2]))\n",
        "ax[2].legend()"
      ]
    },
    {
      "cell_type": "markdown",
      "metadata": {
        "id": "-GjUqF_cplle"
      },
      "source": [
        "## Save model"
      ]
    },
    {
      "cell_type": "code",
      "execution_count": 20,
      "metadata": {
        "id": "B-q-iEBJpllf"
      },
      "outputs": [],
      "source": [
        "#torch.save(model.state_dict(),config['MODEL']['modelpath'])\n",
        "model = model.to('cpu')\n",
        "torch.save(model.state_dict(),\"models\\\\mobilenet_triplet_state_dict_50cls.pkl\")"
      ]
    },
    {
      "cell_type": "code",
      "execution_count": null,
      "metadata": {},
      "outputs": [],
      "source": []
    },
    {
      "attachments": {},
      "cell_type": "markdown",
      "metadata": {},
      "source": [
        "# Exctract embeddings"
      ]
    },
    {
      "cell_type": "code",
      "execution_count": 18,
      "metadata": {},
      "outputs": [],
      "source": [
        "model.load_state_dict(torch.load(\"models\\\\mobilenet_triplet_state_dict_50cls.pkl\"))"
      ]
    },
    {
      "cell_type": "code",
      "execution_count": 20,
      "metadata": {},
      "outputs": [],
      "source": [
        "model = model.to(device)"
      ]
    },
    {
      "cell_type": "code",
      "execution_count": 25,
      "metadata": {},
      "outputs": [],
      "source": [
        "train_embs = []\n",
        "train_labels = []\n",
        "val_embs = []\n",
        "val_labels = []"
      ]
    },
    {
      "cell_type": "code",
      "execution_count": 26,
      "metadata": {},
      "outputs": [],
      "source": [
        "for i,(img1,img2,img3) in enumerate(dataloaders['train']):\n",
        "    img1 = img1.to(device)\n",
        "    img2 = img2.to(device)\n",
        "    img3 = img3.to(device)\n",
        "    with torch.no_grad():\n",
        "        out1 = model.getEmb(img1,img2)\n",
        "        out2 = model.getEmb(img1,img3)\n",
        "\n",
        "    train_embs+=out1.tolist()\n",
        "    train_embs+=out2.tolist()\n",
        "    train_labels+=np.ones((img1.shape[0],)).tolist()\n",
        "    train_labels+=np.zeros((img1.shape[0],)).tolist()"
      ]
    },
    {
      "cell_type": "code",
      "execution_count": 27,
      "metadata": {},
      "outputs": [],
      "source": [
        "for i,(img1,img2,img3) in enumerate(dataloaders['val']):\n",
        "    img1 = img1.to(device)\n",
        "    img2 = img2.to(device)\n",
        "    img3 = img3.to(device)\n",
        "    with torch.no_grad():\n",
        "        out1 = model.getEmb(img1,img2)\n",
        "        out2 = model.getEmb(img1,img3)\n",
        "\n",
        "    val_embs+=out1.tolist()\n",
        "    val_embs+=out2.tolist()\n",
        "    val_labels+=np.ones((img1.shape[0],)).tolist()\n",
        "    val_labels+=np.zeros((img1.shape[0],)).tolist()"
      ]
    },
    {
      "cell_type": "code",
      "execution_count": 28,
      "metadata": {},
      "outputs": [],
      "source": [
        "torch.save((train_embs,train_labels),'trainembs_triplet.pkl')\n",
        "torch.save((val_embs,val_labels),'valembs_triplet.pkl')"
      ]
    },
    {
      "cell_type": "code",
      "execution_count": null,
      "metadata": {},
      "outputs": [],
      "source": []
    }
  ],
  "metadata": {
    "accelerator": "GPU",
    "colab": {
      "collapsed_sections": [
        "FxpLSmPKplld",
        "-GjUqF_cplle"
      ],
      "provenance": []
    },
    "gpuClass": "standard",
    "kernelspec": {
      "display_name": "MLenv",
      "language": "python",
      "name": "python3"
    },
    "language_info": {
      "codemirror_mode": {
        "name": "ipython",
        "version": 3
      },
      "file_extension": ".py",
      "mimetype": "text/x-python",
      "name": "python",
      "nbconvert_exporter": "python",
      "pygments_lexer": "ipython3",
      "version": "3.10.4"
    },
    "vscode": {
      "interpreter": {
        "hash": "665aa01f3af077fd5771c858d8fc10596be116db06e0fbc8e2a6e92782d15ae1"
      }
    }
  },
  "nbformat": 4,
  "nbformat_minor": 0
}
